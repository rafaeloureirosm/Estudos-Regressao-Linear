{
  "cells": [
    {
      "cell_type": "markdown",
      "metadata": {
        "id": "xpmZHxI0D2PX"
      },
      "source": [
        "![](https://cienciadosdados.com/images/CINCIA_DOS_DADOS_4.png)\n",
        "\n",
        "# <font color='PURPLE'>Ciência dos Dados na Prática</font>\n",
        "\n",
        "# <font color='GREY'> Prevendo Preço das Passagens Aéreas</font>\n",
        "![](https://d.wattpad.com/story_parts/936047760/images/162ab1c2bca0cab0265512801457.gif)\n",
        "\n"
      ]
    },
    {
      "cell_type": "markdown",
      "metadata": {
        "id": "b80Ig0LhD0rS"
      },
      "source": [
        "# <font color=blue>1° Problema de Negócio"
      ]
    },
    {
      "cell_type": "markdown",
      "metadata": {
        "id": "lN26EOiTA_a7"
      },
      "source": [
        "# **Previsão de tarifa de voo usando aprendizado de máquina**\n",
        "\n",
        "Você, como **Cientista de Dados da Área de inteligência de Mercado da Startup #VoeFácil** , precisa construir uma Máquina Preditiva de Preço de Passagens Aéreas para o App da Empresa.\n",
        "\n",
        "> Para isso vc precisa analisar o conjunto de dados de tarifas de voo, usando técnicas essenciais de análise e processamento de dados, e, em seguida, fazer algumas previsões sobre o preço do voo, com base em alguns recursos (variáveis/features), como o tipo de companhia aérea, o horário de chegada, o que é a hora de partida, qual a duração do voo, origem, destino e muito mais.\n",
        "\n",
        "![](data:image/jpeg;base64,/9j/4AAQSkZJRgABAQAAAQABAAD/2wCEAAkGBxMSEBAQEhMWFhAXDxUQEg8PFhAPEhIQFhEXFxYTFhcYHSggGBslGxUVITEhJSk3Li4uFx8zOTMsNykvLisBCgoKDg0OGxAQGi0lICUtKy03KzItLS8rLS8tKy0tLS0wLy0tLS0tLS0tLSstKy0tKy8tLS0vLS0vLS0tLy0tLf/AABEIALcBEwMBEQACEQEDEQH/xAAcAAEAAQUBAQAAAAAAAAAAAAAABgEDBAUHAgj/xAA+EAACAQIDBQUGBAQEBwAAAAAAAQIDEQQFIQYSMUFRE2FxkaEHIjJCgbEUUmLBI3KCshaz0fEVJDNDY2SS/8QAGgEBAAMBAQEAAAAAAAAAAAAAAAEEBQMCBv/EAC8RAQACAgECAwYGAgMAAAAAAAABAgMRBAUhEjFBIjJRYXHwM4GhsdHhE5EjQsH/2gAMAwEAAhEDEQA/AO4gAAAAAAAAAAAAAAAAAAAAAAAAAAAAAAAAAAAAAAAAAAAAAAAAAAAAAAAAAAAAAAAAAAAAAAAAAAAAAAAAAAAAAAAAAAAAAAAAAAAAAAAAAAAAAAAAAAAAAAAAAAAAAAAAAAAAAAAAAAAAAAAAAAAAAAAAAAAAAAAAAAAAAAAAAAAAAAAAAAAAAAAAAABFtu8/q4SFF0t285STc05Wsla2q6lDnci+GI8Pqzuo8q/HrWaa7oxl22eLlKMpSjJc4bkVHj1WvqY1uq8ilt7iY+DLx9T5E3jc9vhrt5uk4LEdpThPhvQjLdve11ex9HhyxkpFvjES+ix38dYt8V86vYAAAAAAAAAAAAAAAAAAAAAAAx62JS0XEDHeK7wKLGPr5gZWHxClpz6f6AXwAAAAA1Of7Q0cJFOo7za92lCznLv7l3sr8jk0wx7Xn8FXk8vHx43ee/w9XO802/xVVtU92jDkoJTnbvlJfZIx8vUct/d7Qwc3Vs1/d9mEcxmOq1XerUnN8u0lKVvC/ApWyWv707Z+TNkye/aZY9zy5vdGvKDvGUovrFuL9BHbu9VtNe8SkWS7b4mi0pzdWnzjU96SXdLiWcfMz4/dnfynv/cffZf4/Us2Oe87j5/e3TsmzqniYKUHq1fdf7defkbXF5tM/byt8PvzfR8fk0zRuGyLiwAAAAAAAAAAAAAAAAAAABZxVXdi3z4AaOviAMV4sD1DEgZVGtqmuIG9o1N6Kl1XqB7AAANdn+axwuHqV5a2Vox/NN6Rj5+lzjnzRipN5cOTnjDjm8uJ4/GzrVJ1akt6cndv7JdEuCR8xe9r2m1vOXx2XLbLeb2nvLGPLms0MTGbkou9rXl8t3fRPnwOl8VqRE29XW+C9Kxa0ea3LMIKr2MnabScb6KV+SfXuJjDeaeOI7PUce84/wDJEbj9mUcnFQDebLZlKnU3L2veUO6olf1St4qPQi0zX2q+cLvDzTS2nXsoxyrUlPnwl49T6XhcmORii/r6vqMGX/JTbNLbsAAAAAAAAAAAAAAAAAADXZzO0Y/X9gIri8SBgvFAXqOJA2eGrECR5TO9N/zNeiJGaAAAc79q+Ld8NRT0tKrJdX8MX/f5mN1W/etfzYPWsk+zT6y58ZLBavaOs40Hbm7N9xa4dItk7rvApFsvd7yCm3QdX5N9U1/Mo3fo0Weof9flv/xd6rHs1+W2q2goKVeF/wAq9D1wbap+b1022sevmm2b5PUorDyjTnKnVw1KqqnyKUqa3ouT5713bo0csvDt4t18p7uOfp1pv4qe7PcwOzuKq/DDT9MZVPXRImnBmXvH0uZ85SHL/Z5XbUpycWndOU1Gz8IFmvT49YXcfTKV76TzZ7J5YZNSqbyaSso2tbvvrx6Fni8OvHmZrPafT0XsGCMXk3BcWAAAAAAAAAAAAAAAAAAAa/PaLlRk1xj71lzS4+n2A57jMQBrpYgC/h8QBt8NiiBOcpouNGCfxNbzXRvW3lYkZgAABzD2rwaxFCXJ0HFeMZtv+5GJ1SP+Ss/J891mvt1n5IPcy2LpZxmHVSEoS4P0a4M6Y7zjtFodcOW2K3iquYOmqdFUk9N/f3f1Wte5Y5WeuWImPzhc5vKpnpXw9p9YabNoXrQfgjtw51V26fOqvpDZxf8AJYRf+rS/y4mxh/Dr9IfQYvw6/SGyOroAAAAAAAAAAAAAAAAAAAAAAAITtTsvK8q2HV09ZUVxT5uHVfp8uiCB1JgXsPJvggJpsjkUpuNeqrU07wg+M2vmf6V6+HGBOCQAAAIn7R8leIwqqQV6lFuaS1cqbXvxXfpF/wBPeUedgnJj3HnDP6lxpzYt1847/wAuPqRg6fL6V3iNGlbhCqkxobnLdqsVRso1W4r5Z+9H1O1OTmp7tp/f91vHzuRj8rf77pnkvtDjO0a8VF8N5aJlzH1W1fxK/nH8NTB1eJ7ZI0mmDx1Oqrwkn3czUw8nHmjdJ21seWt43WWSd3QAAAAAAAAAAAAAAAAAAAABj4rGRhx1fQCI4/LqdWcqkkryk5Oy5sD1hcDCHBICRYHHxUVGWllZPlbkn0A2QADWVc6pqvGgvek3uycbbsZcovq+7kBswAEA2q9nqqylWwrjCb1lRlpCT5uLXwvu4eBncjgRefFTtP6MrldNrknxY+0/o57mWUV8O7V6U4fqkrwfcpq8X9GZmTj5MfvQxsvEy4veqwkzgraekyEaVuQKhCRbM51KElTcnf8A7cr2d+UH48ny4cOHiYmk+OnaV3i8i1Z19/fwdUyLNVXhf50lfvXU+h4HMjkU7+cPpOPnjLX5toX1gAAAAAAAAAAAAAAAAAAFnFV9yLl5eIEJzvNd1Slfhrpq2/3YF7C1JdnDfVp7iclxtK2q8wL0ZgUzCb7CrZ2fZSaa4q0Xw7yBXJdp1udVbRN2t4MC5nWfudLcpPccnaVS/vKHNQtwb4X5eJI1WXYlUdYWUrW3mlJpd1+BAkuS506s+zna7TaktOHJgbwkAKSimrNXXNPVMDmHtTyqhRWHnSpQhKcpqbprcUrKNtFpfV6mT1GlYiJiGJ1bHSsVtEd3Mq+ZblZU3G6cU1KL1XimVMXGnJTdZ7qGHhzmp4qz3+DZzpuNt5NXipJSTV4yV09eTTTK96WpOrQq5Mdsc+G0al5ueHNVPzB5J9sPmb7WD6y3ZL+bT72f0I4F5w8mI9J7f77fw1+nZvb/AD/d00+tfQgAAAAAAAAAAAAAAAAAA0W09ZpRS6MDnOPxMp5hh8OvgUHiKnXSTUF4XTf0QEolMCsJgZMZXTXK1rdUQLK9ntNa0a9SEGrqE1GrZdE9HbxJFa2w00vcxPvdJ09H9VLQgYX+GMbF2tSkvzRqNL1jcCS7O5C6D7SrJSq2slC+5BPjZvVvvsiRGc29p3ZVatJYZuUKkqbc5paxk03ZLuM3Jz5raaxX9f6ZWXqXgtNYr5fP+mnxHtTxL+ClSj478390cZ5+T0iHC3VMnpEI5tH7Rcyag4V+yjvWkqUKSv8AWSb8jrx+Ve9pizpxudkyWmLNhm2dzxeW4GdSbnVjWrwqTdk2/clFu36ZJfQ48y02pET6TLjz7zbFXfnEyg+Pj/Hi/wBFvU9cGfZlPTZ9mXW9scvg8qy+vZKpCjRp73N05Uvh77NJ+fU982kTgrb1jTr1LHFsFb+sa/Vz4x2AqEJVsXB78O+rC3/2iMNd56/WP3aXT6Tvfzh2I+tfTAAAAAAAAAAAAAAAAAAA0WfxUpxT4buvmwIDj8qdDMvxLadGrh4Uqc/yzg5OUH0bTuuuvQDaSrgUjXAzKFcgTXBO9Km//HH+1Ei+AAAcW9qeUujjXWS/h1l2ifJVEkpx+z/qMfm4/Dk8XxYPUcPhy+L0lDUykz5VrUVOLg+D9HyYraaW8UFMk0tuFzCRcYbl9E725X4XO3Iy1yREwscrNXLWsw12Pk/xFNKMpaa7qcrLq7cDtxLVrSZtOnbg3rSk2tOk82k2k7fD4TCwTVOlRp77em/VVNR07lr43OXJ5EZK1pXyhy5vMjLWtK+UI6ikz1SEadE9nuXNzhJr3YLfl/N8q89foX+n4N38c/X+H0HBw61v0dIN1rAAAAAAAAAAAAAAAAAAAi201W0pdbL7AQypn1Ophp4fEXjUcpdk4pv36dnGcfq0mujfUDxg6zlFX4gYucZtGjOFPjNx37LlG9k34tPyIGzybEb63gOo4aNoQXSCXkiRdAAANVtLkdPG4eVCpp80JrV06i4SXm01zTZzy44yV8MuWbFXLTw2cIzrJq2EqujWjaXyyWsKkfzQfNfbnYxMuK2OdS+dz4L4rasw4s4SrSuJnl5ekyHnT0iEPSINN1s1kdTFVEoRe4ndyei8W+hZ4/Gtkn5NLh8S158Uw7PlGXRw9JU4+Mpfml1N7HjildQ+gpSKxqGadHsAAAAAAAAAAAAAAAAAAEV20w00u2im42tPdTe61wb7u/uA5jmclKth0lrFTcuXxuFvSN/qgN7g6OqAg2fSk8wxG+mmqigk+UYxSj5rX6gTfZZXil4IgddJAAAAAYuZZdSxEHTrU4zg/lkr2fVPin3o82rFo1MPN6VvGrRtBc09llKTbw9aVPnuVV2sfBSTTX1uUr8Ck+7Omdk6Zjt7s6/VCtpdlq2B3HVlTlGbai6bk+CV7pxVuJQz8a2LUzLM5XDtg1MzvbQusk92zvx0sca4rXjcOOPj3yRuqWZbsLja0IVIwhGE4KcZVKkVeMldO0d58GWK8DLaN9lqnS81u+4hKsn9mUItSxNXf59lSThD6yesvQt4un0r3tO1/B0ylJ3adynWDwkKUVCnFRiuUVb/AHL9axWNQ0oiIjUL56SAAAAAAAAAAAAAAAAAAAAA55tvlkfxfbJaunFvvavH7JAYeApNyStxaXm7ARn2r4FUs0c0tKtGnU+qTpv/AC15gbvY+m7Qk9I7yevS5A6ymSKOYFqVcC3LF2+X1A8PMbfJL6WZA8/8WhzjNf0t/YbHmWd0VxbXjGS/YbHPvaxmdOrDCqErtTqXWq+WPUz+od61ZXVO9K/Vziy3lfwKOG/hUuJeKxMPoHZ3FRWEwseaw9JNdGqa0NrD+HXfwhvYvcj6Q2iro6OivaoCvaICu+gKpkioAAAAAAAAAAAAAKMDy2wPO9LoBRzl0Aju0EoutHe47isub1fDqBiLF0lpwfdowIl7RMvxONqUa1Ck6ijSVNum4Xupybdm115dALuQ0sTTioywtfe4f9Kp97WAnuUVa/ZJSpuOrtGbW8l00b7yBnfxHyAqqUgKqgwK/h+4Cv4UB+E7kBjY3IMPWW7Wo0qkb3tVhCaT66oaRpjYfY7AwacMLRi+TjCKt4dDz4K73p5/x13vTZ0supx+GCXhoetPbIjSS5Ej1YBYCtgAAAAAAAAAAAAAAAAAAAAWcVhYVIuFSEZwfGNSMZxf0YGu/wAL4K9/wtF9zpwkvJqwGzo0IQSjGMYpKyUUopLuSAuWAAAAAAAAAAAAAAAAAAAAAAAAAAAAAAAAAAAAAAAAAAAAAAAAAAAAAAAAAAAAAAAAAAAAAAAAAAAAAAAAAAAAAAAAAAAAAAAAAAAAAAAAAAAAAAAAAAAAAAAAAAAAAAAAAAAAAAAAAAAAAAAAAAAAAAAAAAAAAAAAAAAAAAAAAAAAAAAAAAAAAAAAAAAAB//Z)\n",
        "\n"
      ]
    },
    {
      "cell_type": "markdown",
      "metadata": {
        "id": "VkbTE1AhD5QB"
      },
      "source": [
        "# <font color=blue> 2° Análise Exploratória dos Dados\n",
        "![](data:image/jpeg;base64,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)"
      ]
    },
    {
      "cell_type": "markdown",
      "metadata": {
        "id": "GHg8-bmhBsfX"
      },
      "source": [
        "# **Conjunto de Dados**\n",
        "\n",
        "**Companhia Aérea**: Esta coluna terá todos os tipos de companhias aéreas como Indigo, Jet Airways, Air India e muitas outras.\n",
        "\n",
        "**Date_of_Journey**: Esta coluna nos informará sobre a data em que a viagem do passageiro começará.\n",
        "\n",
        "**Fonte**: Esta coluna contém o nome do local de onde começará a viagem do passageiro.\n",
        "\n",
        "**Destino**: Esta coluna contém o nome do local para onde os passageiros queriam viajar.\n",
        "\n",
        "**Rota**: Aqui podemos saber qual é a rota pela qual os passageiros optaram por viajar desde a sua origem até ao seu destino.\n",
        "\n",
        "**Arrival_Time**: A hora de chegada é quando o passageiro chegará ao seu destino.\n",
        "\n",
        "**Duração**: Duração é todo o período de tempo que um voo levará para completar sua jornada da origem ao destino.\n",
        "\n",
        "**Total_Stops**: Isso nos informará em quantos lugares os voos vão parar lá para o voo em toda a viagem.\n",
        "\n",
        "**Additional_Info**: Nesta coluna, obteremos informações sobre comida, tipo de comida e outras comodidades.\n",
        "\n",
        "**Preço**: Preço do voo para uma viagem completa incluindo todas as despesas antes do embarque.\n",
        "\n",
        "![](data:image/jpeg;base64,/9j/4AAQSkZJRgABAQAAAQABAAD/2wCEAAkGBxQUExYTFBQXFxYWFxgXGRkXFxgZGBkYGBgYFxkZFhkZHikhGxsmHhgXIjIjJiosLy8vGCA1OjUuOSkuLy4BCgoKDg0OHBAQHC4nISYuLi4wMC43LjAuLjAuLi4wLi4uLi4uLi4uLi4uLi4uLi4uLi4uLi4uMC4uLi4uLi4uLv/AABEIAIkBbwMBIgACEQEDEQH/xAAcAAAABwEBAAAAAAAAAAAAAAAAAQMEBQYHAgj/xABJEAACAQIEAgcEBgcFBwQDAAABAhEAAwQSITEFQQYiUWFxgZETMqGxB0JScsHRFCMzYpKi8BWCsuHxNFNzk7PC0hZDY4Q1dIP/xAAaAQADAQEBAQAAAAAAAAAAAAABAgMABAUG/8QALxEAAgIBAgUCBQMFAQAAAAAAAAECEQMhMQQSE0FRFCIyQmGhsYGR8BVSccHh0f/aAAwDAQACEQMRAD8Ai+J9FsPJAshe9Llxf5XZhUFieha6w8feyt65YNbOthvrZWH3Y/OmOL4BZczlCsfssR/XpXtrJB6SR53vWzPPHEuHtacqwggweY11BB5qeRphWkfSt0YuWCmIQs1ph7M//GwkgHuaTB7Qe0VnSAcz2enOO+uPJyuVR+52Y23G2PeGYcMwGaJB1idRuAJGsa1oI+jS66K9nEWbgYAjMrpIO2waKzzB3NxqFJEMfqsPdMx5HuPdWm9B+kbezNpt1JBXmr847juO+a6sPujUdznzycXfYiMT9G+NQTktP9xxP8wWoXE9FcQnv4dx5hvkTWpPxpgT1iPEQPxiiv8ASQgQQGnmAGjw5x5VTpvukyfV8GPPwV/91dH9xv8AxppcwagwTlPYRB+JrYX4qsyFnnK6Efy/OgOkB00kfvSD8DWfDp/KFZ/qY6MCDs39elA8PPIj+vGt4wnEsHcEXrVuf/ktI4/iKk1K2+jvDbyytjDmfswh/kIIrnlCMd4sdZJPZnnA4F+z+vKk/wBEb7J9Pzrfsd0DwX1LD+Nu6x+DMah8X0Fwi7Xbyt9kjbzyEfGsowYerNeDFWtEUXsj2H0rX7/QS2sBr1xcwkfqw8j+JaJfo2LAst9IAn9baa3p49Yf60Hjh5D15f2mRxpT6zxi6s5GCTzRFRhG0MoDD1rQF+je7c902W7DLKD4FkFNW+jPEkkLZV4/3d1D8M8/CmcF5QVxFdmUF8SWbM8sTuxJLeMnc0tc4k+dHmTbKlc37sRMeAq0Yn6PsSh1w14fdXMP5QaYXeh90bi4vc1thTKE5Kl/o3qILe1+5B/pvVywILZj1V35axyk6aDU9tdYnGIwACBdANAAZHPTt/KpMdFm2NwDxBFC70VZRJuoB3yKV4cqd1+ArisT+b8kb+mqEtqqarnLZtmLZQCNdNFHpTixxTVZHuoLYMfVgKZ11EZtO+ou5bgkTPeKleE8DN4aXEB7CdaGGEm6r8FZ5VFW3R1d4in6vIijKc5OQAlwTpMyV23NLHjsJcARA9yQSqhdJGmgkzrOad9IpS50UujZljxb/wAaA6KXj9ZP4j/4109KXgj6mD+YaW8agUEdV1giN5HKRtNHiuO3GJyhQpglCqsk6n3WWOZ5T2k708HRR+br5An8BRr0XPN2PgsfMmmyRyZN1+CceJxQtKX5IS/jC09RF+6MvoAY+FNnWNKtmH6NJI1JPew/CnA4PaXs9Wn1mpvBJqmZ8ZG7SbKPlrv2Z7D6VdRw+39kek/OlbeDtjZF8lA+VZcIL6x9osohtmlVwjnZG8lNX1bcfV+MUD2QPWguDV3ZvVT/ALfuUUcPufZI8dPnR/oLf0R+dXV8NP1R5T+dNxw9J1WfM/nTrhYoy4ib3RVRw89o9f8AKuv7OHNh8/yq2thbUaIB6H5ilsNdKTlAAIg6DUUy4aBnmn5KcnD1PMnwB/OnFrgxbRUuN4KT8lq1nETzpfBlswykzTLh4dkK80t2ym8Q4K1pSXtshA5zI8ROlQpSrX0lxoYsJlVMHX37kbafVXc/5g1WCukyDvPaPGuTiceNSqK/Y6eHlJxuRwtskxzqYwvR64wDQYPPQDyJP4VGYS+FaSJ+flV7wWMFy2rIpVYgAxpGnLlpS8PjxyNmnNbENa6LwJZl8JYn4AD409s9HrY3Poo/7pqTDUpbWe6uzkjFaI5+eT7mz2yCARsfEH0Nc3zAPVLRyAknwroiDoH8FAIHxpyqSNfkR868zmK0VbjuCtYqybF0XbEkGTbOwkEc1OhNYt0q6D4jCEv1btnNC3EYHcnLnU6qdBOmWSACZr0iF5f18dKacRwVu6jWLs5LilWUjqsDykbHnOhFBtSHi3E8sXWOWBopOo7GG4neOf8ApUlwjiRRhc1JWFcc2WYVh3roPTtNOum3Rp8DiWsvLIesj/btn3W+8NiO0Hkar+HcqQw79ORBEEHuINVhNqacR5RU40z0F0dwFvFWRcR+sAMwOoM6qwH2SNfIjlTh+hrH7B7og+tZp9GHSk4e6qNJUzp2ruy+I95fTnXoOyQwDKQVYAgjYgiQRTZc04u09H/KOeONfC91/LKQehQ01iuk6KFTEB/ER8avQSjCVJ8VPyOsUSp4forb+tbjumfiK6udDbP1ZU/121bMlGEpPUT8jdOJV7HBrlv3b3LmOXjOnlUq2EzgAgHvDa/n8alDbo/Z9tI8reoVBFf/ALPZdAQ6zqHMjuiSYo8VctoQhUhQQR7MmAf3hy8RU/8Ao69lE2DU7j4mh1fIeTwVv21u5Km6kHWGa5bOnZJgeVRd7BBXJIuKv+8t3Fujx6wBFXO5wm0RBUePP1pG5wW0ViJA7RIPiNj4708cyQrxtlSxGIKLriheBXRWj2inkYJzCofD8VuhtGBXsfs7JPOrNjOh9gy0tmn6qmO7Sm+I4BNtbSM4AJY9VhJiNtZ9K6YZoJf8JuEiqXcXcz9QgnllaflvSN5/awt20lxQQ0MqnUabxPM1P4jCrh1hTLnm1rQeBJ08YqBa0S09QeRUV1xyqS2JONGQcYRVvOFAUAiAOWgrQeh2FQYW1cFlGuFnJcoC3VaFEnlvWfcb/b3PvfLStG6GYNnwSMM/ULg5VLLq7HrEbelTg1zN/UtO+RfzsTV3GupkBe+bYj5U1bG+0brwO3KsfAVwLSnTQHtJI+dKHBlf/cU/ddG9I1ro5kv8nNVjS+QDue6dKQe1m7fLWnd6wy7FiO9THxFN/ZT9aPKm5zUNmsAfWPmK4a0TzmpfCcGe4YR1ZjspkE/d01PcKQxPDrie8BuQQdII5HsodRXVh5foRwwj8gfSiNg8yBTkIez0NOLdkn6jnw1/CtzM1IjfYHtroJFWa1wg+zL+0KgcnssJ8GAg0h+hodmWe0qQPWKn1rG5CCAFKphidgTVhtcFJgtlgmO710qUt9C2K5wIAI3YKT3jWklxEFuxljZTXwBG4YeIpFsOKuT8HuIM1wXAg2Jkr6kRTe7ew2aAtzb91de6gs17amcK3KmMLP8ApSfGMT7C2ESBduAwfsIPeY9kCfPtirhx/EYazZNzJcVl1PtCpgfuwNSTAHjWOcU4q15nZt3InXZR7qjuBgntIFPHNUbAsfNLTZDe5iRmGUSqiFB/xEdpOvw2pu9hiTlUneYGgI1IHcK6w1okwDr8hzJrXegiYTCW899GuXXAAUQBat9hnd23PkNNZ5ZQcouTOpyUXRkWHwbuVVVJLEAef4VqGE4NlRVQSFAHpWhYPpBw1tPYsviqH8dfSnQxnDmMar2ErlBnsy/jUozePaLBKp7tGfJwn+74mu/0JF94z4VpNvCYXLmW4gH3wSfLen+FwNph7qsu8lG+e1CXEvvZljRRcJxvCIRkxd9R2EKy+jIak8Rx/C3VynGMveFZT8BWM56PNXpPg4N3b+x564iXhGzf2xhghUY5yeRiT4QRXWFxkjTF2LiRqjJDekkk+VYyGrsXO80vo15+yG678GidMsJhcXYayWVLySbTEMFDRsSTARoAOnIGNBWE4i2UYqRBBII7CNCKu6Yphs5HnUTx/CF5ubmOt2kDZvL5eFJPhuWNxZfDn1plfsXSCCDBBBBG4I1BFbJ0O6Us9gfrLispysBcKojczlOmUzI15msWIipfo9xY2LoJ1Rhlcdq9sdo+UiuaLXzbF8sLVx3NnxHTTGWrhWbbgfugj+Vpnzp1c+kO+LZBsKrnZhmyx90/nVIgnVYYHUHfTcUT3rg0JPdBMek12enxOtEcPVn5Zc8N9ImIEZktsOchgfUGndr6S2nrWFPblcj0kGqDnbcj1oLcnlWfC4X8plmn5NPtfSJZaJR17Zgx6bj0p2OmKMwVHstJ3PtF0810NZOzldNq5zmpPgsfYdcRPubmnGUkAlNdRlYtPh1Ymum6Q4YEqb1sMDBBbY1hYuc5NLXcVnMsSx7STPqan/T4+SnqX4NlbjlnNIv28v3z8tR8KTvcWtA51v2o7CAP5gQRtzrH0vEbEilVg9poeiiu4eu32NOfpnbDFGKMBzBJnwIEVI4PpXh3gZ8pnZp9ZiKyi1YZjCD4j8YpzbwLyQxZCBJlNuesUJcLj8hWaZsgu2rgBlGHkaSucMsOINq2Z/dX5is0wfArTkhsSgIEyNo3nrRPgNaksBwnDq0DiBB/dlD5ya5nhjHaT/Zllkb3RgHSm2FxeIUaBb11QPuuw/CtC6AY82sKhDEE5/tQZdhBykR4+FZ90sTLjMSubNF+6M32ouMM09+/nWv/AEZ8Dw17h1tr1wW3zPHWUaTI31roU4xvmBNNpJCK423qTmB3AIDKT46EDfmab4nGox0TL2ggsPxirVb6Fo7dVmZJ3DiY5bgDapA/RzZPu3Lg8cv5U/qcSe7I9KbM9TGZZhQQeUsPka4e6jHZk88w+VXBugsEg3YgxLK0HzgfjS9v6P3YSL6afZkie+Kf1WLyBYZlQsllGZbkwQY2I7CJ19KlF44t2FvZuw3B138YY93bS3EOieItGDbzj7SSR8tPSiw3RfEt7tuPvCPiRHxoPJjkrbDyyWlEZxK0iP1HFxOTBcv8S7iluF4pRcBZCon3rZkjsMNI8qf4vgt61KvYDbajf1Wm2Ft5XgW1ifduEfEk1udOJlGmPb3GykqtwETIJZ8xE7EKxA8D3074Z0gQmHhFmeoqn+VuXjUZxfh4tNFyygkAgozZYPYdQee1ELlhbLZCVuGNJDKR4xINTcYSjohraZe/7ZsaKtsMSNP1eUa8pHPwp3awls9Z7aISNOsVYjziKy63jypGmg5ET8SKlMV0lRkFsWyimMxXUnnoHmNexvKoS4Z/KVWRdyyXuC+0JK4i4qnUTdZlPkKTxfCkt4d2uOlyIg6EidgvPU/jVRwnSB7bAo4Ec2VW081qH+kjpg4T2YvG4zSVMBMoIhnCjY7qPM91OsM09XoibkvlWrKf06477W57ND1LZ/icaei7Dzqo0ZNTnRfg5v3VBkLMsRuF5kE6ZjsJ568qo5OcisYqEaLx9FHQBsTmxF2RaQwvL2lwbwSPcTn2tpyNaRd6I2kYRca53C37T1IpDhnEE6lhbn6PZRQqqCrIoGwOxPidZmam8NxEgSpw10DchgjgTGupiueeTJemi8GSixlh+gtputmbwysv+KKTv9CSSOu2mn2vXSrGMWpaGtukiZZxBBHKHM+lFicbatQRcXMf37SkjukCah1cl7j8kRnwnoutsy+VvEDXyy/jT69we2Bo5Qfe+UmkrHG1cZlTTYsTp6qD209OHt3BqxYdmhA/l0qcpTv3BSXY8w5e6lbVhjsD6GpX9HTsHk3+dPeH4ayWAJyd5chR4xNfRyzpKzyY4LepHW+AXyJ9lcjt9m8esRRYjgt1PeRx/cNWfDhrZ/V3gM3Nb0fxQwK+cUzxeKuMcr3bjEHc3GceWpHpUI8RNvsVeCKRWzhW7D6V0MM32T6VbcLiioEqGPach08HBqw4G3h7oGfDrJ5lrajzKqPnS5ONcN4jw4VS2ZhnG+GNbM5SFO2nqvl8vColTXpDFdC8LiEez+ozOOrku3CyHkwBYhiN4iD51gXSPg13CX7mHvLDoY02I5MvapEEePdXF1ozk3E7FGSVSJPo5xYrCMdB7vhzHl8qtVw5hqflWYW7pUgjcGR41Zl6Q4gWwUClFGsiWWNwZMeGm0V0Y+ISjW9fj/hzTw+76P8AJZcjeVdLbqiP0lxJ/wDcjwRF+S00ucUvtvduH++351nx67Iy4V+TSGUgbQKati7S+9ctjxdZ+dUzgFpbt5BczMc2YzBXKgztmnUjKraVEGp/1BvRRH9Iqts0VuO4Vd7hP3ZPyWm17pRhhsLh8FH/AHEVQ4o6Hq8jGXDwLdd6W2x7lpj95gPkDXB6Z3QOpbQeOZvlFVZHI2JHhpTnDXwCWYsWOkwG00n3uekVN8VlrVjxwQvYnbHTjEqZUop+5PzNKt0wx56yNlzgfs7FsD3iBl6umqnbmCO2ofh+JyBytpXUnQ3EtsRCsYOZTyBOn2afYvDALAtKEUFAwZQ5cT1yZ10+r37VGXEO1ZWOFNCl7prxH6199YMlE1kSDJXWR603bpRjFIJusCQGHUQSDsR1dR30tewlpBbe5bCr7QiASx9kQSpYSQxGp000APc2u4izIysVTMpyhruggkh50gPljLrE86CzPtYXiS3ojcdfuXHNy4SWuEuWIjMWYy3fJn41PdH+PY0L7Kw5KqIyiwl3Q6R7jEUzuXUgE9fWNWeBlCEhA06ddzqJ3jWDT7C45LaZSzC0YzKGvae0CmFAOUiA+jGT1u6isrXZm6aeloVTptj8NdIW5kddDNoIe2GUqDHcal0+l/iw+vb87K93YO8etQPFr9m4kl3KhSLIzuzBolkdXJVFDEe7G+55JrggsO9klQFAWWz3DBVi3XIUZoMdw75EsieskFYq0RZrv0wcRIAuDDsDPv2TyJHaOzlS+H+m/HIAvssMYI+pdGmsj9p4VUW/Vdd7ILSVyHK1sZgzEoDmAK5dfPyjCyh3LKUOY9T2asApMx1iII0G3pQuLWxnCmam3063GXK+DSebJedT5QJB86d8L+mq0gK3LV5wds2Vsp8S0kVi1yJ0JI5SIPmJPzriavyQqqJPc2rhn0k4VLpugiTPVZXA15e63z5UL/S61eue0e7bYkjT2iLp2AGY9KxShTKSTuhXC+5u/EekBxGUQoVRAC9nLMQNT3xTVYncEdzR8xWPYVbMS926rDYJaVh/Ebqx6Uq3E7ix7PEXSOwll+AYimjnivalQrxPezWiVnn5ANXF4rsqsDzkSZ7YjSsutdJ8Su10+aofmKmcD03xrHKoV+Z6rep60Dxp1mi3oB42lqWviV9bNtnuFtBMEAHu31knQVmHEca1641xzqx9ByUdwFSPSXjly+wDn3d4MgttoeYA0HnUIgkwKE8t1FBxQrVjjA4RrjhFBJJAgcyeVaTwzhAsqFiTu0GJPd3dlKdCuiht2hfuKQ7iUWCGCnn4t8AI0k1YXwpG4Onaf8qyyxhogyg5akQ1gR7pHiaVXDchmnu1qawVthujFOZ7PAsCAae3MHeQh4yJoVcCRHIhlO/hSviK0B0W+xWkwFxhMXCBp7pI9adDgt+AYgNtIYT6irF/aTsotpnY8wWJk8ioGs0+wvG3soA4GY/aUgx26jX1qMuIn2QywIq+E4BiT1gjeK/6VOYThN1U/Y3Sx5g6+YFTGF6UHNDMmXtCxHiJ1p3a6SW30LMOYKwPIhhUp8RN7odYUjFrGFa4cqLqdhP5mn7cBuopa4Bbgx1g0eoBHxqq8P6fXcOSbNtZiJcT8B+dc8S+kniF0g+1W3G3s0UH1Mn412ZMmXmqNV9yUMUOW3dlnXBvmhIaPsGZ8Irm9eFrW6VXuuOFPoSDWeY7j2JvAi7fuup+qbjZPJZyj0qMIo803vRunFGoXumeEUbSwM/qw+v8fVqP4p0+t3CBbtNE73Cix5W119az6u1WhGOtjNKqLdiel2LQH2VxbZiSLY1ynxJ86q/EOI3bzZ71xrjAQCxmBJMDsEkmB2mhbuxuYI2PPwPaKRvXFJkCO6kyU9W6NBNaCVOsIywyuzKGjUaiRtmG5HhTcv3VzNR54rbUdq0K3MOQJiR2jVfUc+6kKXw91lMqSD3fj3UveKkagBu1RE+KjT0AqTSqxops7wGHu6vaFyQCCUDGAwKkErsCCR3gmm7W40II9RWg9GDjreGFtMQ9qyWLQioDmaJl2PcNBT3G9HPaANfuXb0fWu3muRygclO/pUOsk9TqWG1ojNLL2x7yz5n86de1sfY+LfnTjimBRrrpZUDJO7qJgFjEnWADTYcEvEkKuYgrIQh4zAFScpPVOYa7V348jr4UcOWEear/AGY3vva+qvxP50nnT7PxNFiLBRipiR2MGHkVJB8jUn/6bvEKUCuGmCp00j6xgfWB3212BhXN3sg0lpbIhmHIV0pJ6s6TMTpPb40vjMBctEB0KyJEjQ6A6HadRI5bHWp/ofh1W6tyAWXIy5tgeqSdjB31io5JNK2iuOPM6Q1v9HsUtsXLli7kA0YhjC6nbdRvvA1qFOX/AC1n8q3e90ruBIITaP2h3/5dZH0kw6sTdUAM9wghdpLPsABJ0HKpYs7bpovlwpK0Q4e32H1NcXH5Db8vjUx/6SxHtPZ5ROXNmnqgSRExvI2qIxGEdDDggxIB5iSJHmD6V1JtrRHGqvcGHddm27qF67MAFiqzAJMCd4HKaccLwa3GOZgqqpbX6xAkLvpO2blMmph+jwOYWit2WCK2bIF1ZZOY84QwdpjcVzTypOmykYNy0v8A0V43yTLEnbczsIG/YNK5LL2UeGsZmyyo31YwP9akG6P3wYCTtqCI1E847D6V0Rk62QjavVkcCvZ8TUlYOHjVT6n86jbtkqSGBBBggggg9hB2pxZwBZQwZddIJgyZga8zFVjNreKEnFNbtDu6uH5D4t+dNWW2dp+P50pb4efeIlAC2YEAGDBAJiTodN6uvR7gOFv2kuJbIfNH7RkIIO4KhtdJpMudRV8qKYMPNtK/8lAa0vIzSLpFbbbOLw4/U4q7HZdFq+h5RJi4ezzrKuNYVlvObpEsxfqrCtmMmOzU7cq5o5lJnTPDSIWKd4YFQWzMp2EDUzoZPIRNFevRosAfu6ep3PmabqdKrFq9DncezCilrFwqwYRIIIkAiRrsdDSIeug4qsHDyK7L3wvpxiSJuFGCwBKsCWOwGQgDtJjbkamF6fWs8X7dyeZtsrkeOaNfM1njYpIlZnZQYhB3dp76bl67Vixzj/4TUpc1m1cN6V8LukZ8TeVjyuDJr3nKyj+KrZw6xhr4Iw9/2in3lTFW2nnqFmDtvXmoGhlqE+AUvhk0VWauyPUqdHLan9ncI7nT8qcvwtTut895ur+dea+G9Kcbh49libygfV9oWT+BpX4VZcD9LvEU0d7d0fvW1VvVIHwNceTgM61UrHjmj4o20cAt/wC7f/mD8KWudHbLfUI8HmfGayzB/TTP7aw699tkb4Mqx61YMJ9KuEfe+UPY1sj46r8a5Z4eIjvF/pr+Cq5ZbNHnqKEURcVwXr15ZYLuctHdEWFJk0VQlxHhB5TsvQ9oa4oVJ5JPuGgUKFClCFXSUVFS7GFA2s1KcKs5nDEaDb86iQKl+EsdyP65VpS9rRXFrIvOGxq+yuJOeNGVnIt7yAgz+8AxzaCSedMeIXnAshAAiCGAZiAG94Rm5QNxyqGt3FVYDJqSffWZOpmTRG/3r4B0JPgM1cix07Oxz0LH0RsWms3VdV9m18AqQY6gRgNOUjsjfXlV04zYw1y3aAt2syPb9lltZCp9qpCqQggHNEbfA1mfB+JlFNh76WLYc3hcFl7zm5sFKzlIIJ5EaVL8T6Sp1H/Tfa+ydWFpcGbQcgr7z59hq0TEr2xXpRySVRjVfXc8fJw6lJzbd+FsQPTRQvECVIJLI5J1XM0NJzDaCNNqaLJfM0ucrQSpdoytHVkKi7AAfKo/G4w3LvtbhJJIJymDAEAKSDECAJHKk7eLgb5pDAhhoJUqGBBkkAnfbvk0Gx3F1Q9uBltPlYBSJKicjdYAnK3u3ASNuXxW4VicoFRftpDZiSTtrHWkamRroD2awZ7XvCMIbuYB8mVGf6moUAkdd117AJJ7KllqtS2KXJbZaOH8JxWMDGwbeVGCtnZgZK5p0ERHnUB0gwj2XazdKF1ZSSklTnUXARIB2cU94F0xuYVGS2ts5mzNnVm1yhdCHWBHcai+JcVe/ea+SqvKGQcoGRVVMoJJ0CDmdqKSSSr9TNzcm3LTxX+y4YfF2WvC77IFFREJFu6XctnEqZlUyZW6o2IA7DEcTFr2Yt23QFrasLepEuhuFpYnr6KADsDoQTDR1zpRfL2m9ow9mqiA7ZXynVnGbVjzPcOymmP47euE/rLioQAUDtkmOt1ZjVszf3jTrU5uVvcR4JhDccwiMAOt7QuEUHQMfZkNueU+FSFjB3Eu+x9lbzkLcUEXmnKCRlCktsWkERoZ2qP4VxH2RIZQ6NGZTG4mGXMrAMJMGD7x7aU4nxW410OB7JrY9mFTqFdWLDSIJZnmANzXO4tyrsddpQ03EMGxDtlaNG1ETAM9QkaHTQiKfWLIKuCo3BPVZgN5zNMzrrFQ9p4M67HYxrGnlNObeNKiAZ0GpEFSGDdWDrtz9KutCEo2x3xdSFUFs2UwBObKIkBGIk29ZA5a9uuh9DBbOGwj3AGNsXlWVzQWuAaDKdYXv8qyxnBHMmRGugGsiI7SOfb26T3BeOsipbuXbq2rZLoLAti4Luoksw1Uhn0nmOyqqbjtV/YWeFZI8ruvpozTuOYe014uQoL2rqOckFkKm4QYAze4e07jurPsErWluWrIYOL5R2VmVwiM31lM7aedLY3pCrsLqXcS11AQvtvY5IZcrSFTvPL5zUTgWKA5nBLMWzFtye0tqTzqOaUpw91X9CvC4lidK6+peLePIvl8rKzKhZwWkES2k8we+SSKrXGlF/MZLanI7a3OR/WdZjmBkHXlSC4j99P41pvcYDOQQc5kwQRMQdtK4owadnoykmqK1dQqSp0I0rk60vibhYyQBGnYf9KbGutbWee9wqFdTRUKACug3fXNCmi2tjC63+0V2l4U1oV0R4qcfqI4JkgDRRTIGKUW+R310w42L+JUI8b7DkiirlcQDvpSikGumOSE9mI01uR9HRUdeMdIDRUKFKzAoUVChZg6FFQrWY6IoqFdiI135f51jAtHWpbh6M2iKWPdHfuSQBUQtKXH2j+uyi75SkJcpI3eBXeSHvlk/BqaYjCvaIzCDuIZSfQE/Gm/tm+0fU0TMTuaRX3BJx7Ifk3GAIDQefV/Kmrs3P8ACkKKnWgHIUUkmBudKcf2dc+z8V/Omc12HPfWbfkCruOb2DdRLLA2mRv5GhavECIBB5MAde0dlNJrtjTLXcNrsWHhdu29k5kVnDQoFslsraknK6yJgST1ZG0imWPtK1/2a5AucW1IAC5QcoZiPe31bnvUemIYCAfgPyrqziGV1ce8rBhppIMjTxp0JWrZZf7Is5/ZKGzp1ySoL7W4UgnI8M7SANk31pLpN7HNcWEFxCVUIi2xGYHVbaBSYZtd9AOQhL+2XGa4j3PaMMoHJAAgUocsAjIBAAgKIYnYcfx+Z7yrnKswIIc+z0g+7EHXv3E1ldolFS7lcmrMeDC/ib4a4UIuM3WXOxRmJLHLzAKnvnlVZNLfpLyTmJJ3J1J9ahOMn8Lo6oSin7laCv2srFQZgwDtPZpyoLYY7D5Um7E60Wc9ppra0F9tji5h3USVIG01wjsdpPgJpLOe0+tEBRVszfgkLK3fs3PJJ/Ck8WzSFbMD2MAu+3wNMxRUrM5aEqOA39/ZyO0Mp9INLrg7tpSGR411IEDTnBMVD+0PafjRrcM6kkc9TtS692OpRWyY4uYggaE+tNTLHtJpW4Qa7sQpkmSNQIOp5Sezw3276Zmlqxqo74oqMiimsSBQoqFazB0KKhRswdChQrGBRzRUKJgTQoqFKYFHFHFLvYg+8pgjUGRrOumsaUA0NqFOiVyxqW5HYLrrp9afKNd6TRO3b+udFJs1CVdBTE8qcW7AY7wO/b1qzcA4TbV1e8S6TIS20Fng5YZQSSN4AJ30OtO8ckrGjByZUxbPge+u7dur3xN7QSGRSpnKujHTckgxI5wYBBll9yqbfvKpOTUzodwvcs7n94+XbUuayjhGHc5Zsm+/Z+fZTJjRkzvXFYnKfMChR0CKahAqFChWMChR0KxhS1bLGB3/AAE0sbABguJ7gx/ClMCmhbtIXl94nyhfWpDB41kAGQQJ1O+u9GLV6sZpqNpWRqYSdnHo35U4XhFw6gAjTWYknYa8zyG5p62Z22PLQRJjSNYjYVKi3b9nkcT+qkTl972iiAB1pyz3ROhqc8jT0LYsfMvcqE0xPE209o0gA5CyKwAGVSVaDB7ee9NMVfx95cj3WZDlQTcAR5MKq6w5lSNOammS4piZ9m2YGCxyQJ8LYMxrvymkLmIUjKEI7ZjfmYy6ayPypk5E+TH2Qxa0RM6RvQ9npM6ef5UvYulHVxupB9Dt+FSZ4+2bMFjfQMSDIgzmBnTkadCta1RBZdK5p/isV7Q5iDMczmJjtJ7tKYsNaV7ga0OaFHRUAAoUKFYwKFChWMObN3TKdOw/n3V3cUjfxHeO7tppTi1fjQ6qTJB+YPI/1rQopGfZhqAaO9hmG6sCQSAQQYGpMdkA+lS/B7qAHQffgZk5dbsH7w011iZEti+vbAZ8rK0q68yBIBH1mAJ096G2IJcvzXoPyJq7KRFGsTrtUhiMMq/WJI7Qy/4opveynYQY5bE+A2p3jaRGhrXTLFOcO6rIZJnLDaysEEwJytIkQfhRKubUsNBJB0Hve6seM8qkahtRU4xdtVYhWzDTrRE6a6U3rIzVB0KKhRAChR0VYwKOio6xgwYrsXe700pOhTJtbGHti6s6mO8r+KkGpdOJBVJUASCM7gsWGxUKSc/gxy7So0NV1aecU3t/8JPlRlNtUUi6BjeIM5OpgxMmWaNizc45DYchTGhQFTEbsKhXS71zWACjoqOijAoEUdG1ExzQo6KgElrAhUWOw6AkkuZ5fuhKkbCwcptvI3GR57Dy050r0b/2k/8ADH/TWrbjf2d/72H/AMV6ubJkp0d2KHtshuG3YOc2mjmWQqoXTM+ZlA6sE7/jUdby3EMXbqhWyAFliAAZUIsRE7dlS3SP/YfNfktVvov+0X+uVBPSwv4khWxh7vt7mCUgm4QCzCWlFzjKeRMQY30pLFm5iLtxbjANYt5BlAAbI62wOWpLb/CprC//AJv/APq/+Bqa8C/2rG/8O7/1rdU6sq/SyXTV/qyuG2MpJLZgwGsRBDecyKWvYVvZh/ZsASQSEhZk7HWdOyAMux3o+Iftm8v8FaDa/wBmuf8A6r/9Fq08rVfUEcSk2ZzYwVwguLblRKkhSQDGoP8AXKmtxdJ7DH4j+u6tSxf7f/7uI/6yVm/Fffu/8Vvm1NCfMgZcSjFEeKFAUDVDmBQoUVYwKFChQMChSn1fOuVrBo6t3CpBBII2IqXw3E5Q2zAndTAQ6zpyQzOhBWTMKdahaKsFSaH+LdQSMhU9hC6fCmzXe71JNOMd7lr7h/xGmVU6jaA9w2NBaKhSgDNc0dFWZgUKFCgY/9k=)"
      ]
    },
    {
      "cell_type": "code",
      "execution_count": 1,
      "metadata": {
        "id": "IyqIuWDyF0Ao"
      },
      "outputs": [],
      "source": [
        "# Importação de Pacotes para o trabalho\n",
        "import numpy as np\n",
        "import pandas as pd\n",
        "import matplotlib.pyplot as plt\n",
        "import seaborn as sns\n",
        "from sklearn.preprocessing import StandardScaler\n",
        "from sklearn.model_selection import train_test_split\n",
        "from sklearn.metrics import mean_squared_error as mse\n",
        "from sklearn.metrics import r2_score\n",
        "from math import sqrt\n",
        "from sklearn.tree import DecisionTreeRegressor\n",
        "from sklearn.ensemble import RandomForestRegressor\n",
        "from sklearn.preprocessing import LabelEncoder\n",
        "from sklearn.model_selection import KFold\n",
        "from sklearn.model_selection import train_test_split\n",
        "from sklearn.model_selection import GridSearchCV\n"
      ]
    },
    {
      "cell_type": "code",
      "execution_count": 2,
      "metadata": {
        "id": "UXGD3URZF0Dz"
      },
      "outputs": [
        {
          "data": {
            "text/html": [
              "<div>\n",
              "<style scoped>\n",
              "    .dataframe tbody tr th:only-of-type {\n",
              "        vertical-align: middle;\n",
              "    }\n",
              "\n",
              "    .dataframe tbody tr th {\n",
              "        vertical-align: top;\n",
              "    }\n",
              "\n",
              "    .dataframe thead th {\n",
              "        text-align: right;\n",
              "    }\n",
              "</style>\n",
              "<table border=\"1\" class=\"dataframe\">\n",
              "  <thead>\n",
              "    <tr style=\"text-align: right;\">\n",
              "      <th></th>\n",
              "      <th>Airline</th>\n",
              "      <th>Date_of_Journey</th>\n",
              "      <th>Source</th>\n",
              "      <th>Destination</th>\n",
              "      <th>Route</th>\n",
              "      <th>Dep_Time</th>\n",
              "      <th>Arrival_Time</th>\n",
              "      <th>Duration</th>\n",
              "      <th>Total_Stops</th>\n",
              "      <th>Additional_Info</th>\n",
              "      <th>Price</th>\n",
              "    </tr>\n",
              "  </thead>\n",
              "  <tbody>\n",
              "    <tr>\n",
              "      <th>0</th>\n",
              "      <td>IndiGo</td>\n",
              "      <td>24/03/2019</td>\n",
              "      <td>Banglore</td>\n",
              "      <td>New Delhi</td>\n",
              "      <td>BLR → DEL</td>\n",
              "      <td>22:20</td>\n",
              "      <td>01:10 22 Mar</td>\n",
              "      <td>2h 50m</td>\n",
              "      <td>non-stop</td>\n",
              "      <td>No info</td>\n",
              "      <td>3897</td>\n",
              "    </tr>\n",
              "    <tr>\n",
              "      <th>1</th>\n",
              "      <td>Air India</td>\n",
              "      <td>1/05/2019</td>\n",
              "      <td>Kolkata</td>\n",
              "      <td>Banglore</td>\n",
              "      <td>CCU → IXR → BBI → BLR</td>\n",
              "      <td>05:50</td>\n",
              "      <td>13:15</td>\n",
              "      <td>7h 25m</td>\n",
              "      <td>2 stops</td>\n",
              "      <td>No info</td>\n",
              "      <td>7662</td>\n",
              "    </tr>\n",
              "  </tbody>\n",
              "</table>\n",
              "</div>"
            ],
            "text/plain": [
              "     Airline Date_of_Journey    Source Destination                  Route  \\\n",
              "0     IndiGo      24/03/2019  Banglore   New Delhi              BLR → DEL   \n",
              "1  Air India       1/05/2019   Kolkata    Banglore  CCU → IXR → BBI → BLR   \n",
              "\n",
              "  Dep_Time  Arrival_Time Duration Total_Stops Additional_Info  Price  \n",
              "0    22:20  01:10 22 Mar   2h 50m    non-stop         No info   3897  \n",
              "1    05:50         13:15   7h 25m     2 stops         No info   7662  "
            ]
          },
          "execution_count": 2,
          "metadata": {},
          "output_type": "execute_result"
        }
      ],
      "source": [
        "# Conexão com os dados\n",
        "train_df = pd.read_excel(\"Data_Train.xlsx\")\n",
        "train_df.head(2)"
      ]
    },
    {
      "cell_type": "code",
      "execution_count": 3,
      "metadata": {
        "id": "JQhLc6AvF0Gy"
      },
      "outputs": [
        {
          "data": {
            "text/plain": [
              "Index(['Airline', 'Date_of_Journey', 'Source', 'Destination', 'Route',\n",
              "       'Dep_Time', 'Arrival_Time', 'Duration', 'Total_Stops',\n",
              "       'Additional_Info', 'Price'],\n",
              "      dtype='object')"
            ]
          },
          "execution_count": 3,
          "metadata": {},
          "output_type": "execute_result"
        }
      ],
      "source": [
        "# Agora, aqui estaremos olhando para o tipo de colunas que nosso conjunto de dados tem\n",
        "train_df.columns"
      ]
    },
    {
      "cell_type": "code",
      "execution_count": 4,
      "metadata": {
        "colab": {
          "base_uri": "https://localhost:8080/"
        },
        "id": "Hav5VnDeF0KQ",
        "outputId": "8e4bdc2d-124a-444e-8add-4402c5b04a1f"
      },
      "outputs": [
        {
          "name": "stdout",
          "output_type": "stream",
          "text": [
            "<class 'pandas.core.frame.DataFrame'>\n",
            "RangeIndex: 10683 entries, 0 to 10682\n",
            "Data columns (total 11 columns):\n",
            " #   Column           Non-Null Count  Dtype \n",
            "---  ------           --------------  ----- \n",
            " 0   Airline          10683 non-null  object\n",
            " 1   Date_of_Journey  10683 non-null  object\n",
            " 2   Source           10683 non-null  object\n",
            " 3   Destination      10683 non-null  object\n",
            " 4   Route            10682 non-null  object\n",
            " 5   Dep_Time         10683 non-null  object\n",
            " 6   Arrival_Time     10683 non-null  object\n",
            " 7   Duration         10683 non-null  object\n",
            " 8   Total_Stops      10682 non-null  object\n",
            " 9   Additional_Info  10683 non-null  object\n",
            " 10  Price            10683 non-null  int64 \n",
            "dtypes: int64(1), object(10)\n",
            "memory usage: 918.2+ KB\n"
          ]
        }
      ],
      "source": [
        "# Aqui podemos obter mais informações sobre nosso conjunto de dados\n",
        "train_df.info()"
      ]
    },
    {
      "cell_type": "code",
      "execution_count": 5,
      "metadata": {
        "colab": {
          "base_uri": "https://localhost:8080/",
          "height": 300
        },
        "id": "ju91MGpXF0Nd",
        "outputId": "254b3c1d-d874-43ab-f934-276c65877572"
      },
      "outputs": [
        {
          "data": {
            "text/html": [
              "<div>\n",
              "<style scoped>\n",
              "    .dataframe tbody tr th:only-of-type {\n",
              "        vertical-align: middle;\n",
              "    }\n",
              "\n",
              "    .dataframe tbody tr th {\n",
              "        vertical-align: top;\n",
              "    }\n",
              "\n",
              "    .dataframe thead th {\n",
              "        text-align: right;\n",
              "    }\n",
              "</style>\n",
              "<table border=\"1\" class=\"dataframe\">\n",
              "  <thead>\n",
              "    <tr style=\"text-align: right;\">\n",
              "      <th></th>\n",
              "      <th>Price</th>\n",
              "    </tr>\n",
              "  </thead>\n",
              "  <tbody>\n",
              "    <tr>\n",
              "      <th>count</th>\n",
              "      <td>10683.000000</td>\n",
              "    </tr>\n",
              "    <tr>\n",
              "      <th>mean</th>\n",
              "      <td>9087.064121</td>\n",
              "    </tr>\n",
              "    <tr>\n",
              "      <th>std</th>\n",
              "      <td>4611.359167</td>\n",
              "    </tr>\n",
              "    <tr>\n",
              "      <th>min</th>\n",
              "      <td>1759.000000</td>\n",
              "    </tr>\n",
              "    <tr>\n",
              "      <th>25%</th>\n",
              "      <td>5277.000000</td>\n",
              "    </tr>\n",
              "    <tr>\n",
              "      <th>50%</th>\n",
              "      <td>8372.000000</td>\n",
              "    </tr>\n",
              "    <tr>\n",
              "      <th>75%</th>\n",
              "      <td>12373.000000</td>\n",
              "    </tr>\n",
              "    <tr>\n",
              "      <th>max</th>\n",
              "      <td>79512.000000</td>\n",
              "    </tr>\n",
              "  </tbody>\n",
              "</table>\n",
              "</div>"
            ],
            "text/plain": [
              "              Price\n",
              "count  10683.000000\n",
              "mean    9087.064121\n",
              "std     4611.359167\n",
              "min     1759.000000\n",
              "25%     5277.000000\n",
              "50%     8372.000000\n",
              "75%    12373.000000\n",
              "max    79512.000000"
            ]
          },
          "execution_count": 5,
          "metadata": {},
          "output_type": "execute_result"
        }
      ],
      "source": [
        "# Estatísticas das variáveis\n",
        "train_df.describe()"
      ]
    },
    {
      "cell_type": "code",
      "execution_count": 6,
      "metadata": {
        "colab": {
          "base_uri": "https://localhost:8080/"
        },
        "id": "SWW69yIiGf1e",
        "outputId": "66a8b296-b185-449c-c61d-f0701feed4f2"
      },
      "outputs": [
        {
          "data": {
            "text/plain": [
              "Airline            0\n",
              "Date_of_Journey    0\n",
              "Source             0\n",
              "Destination        0\n",
              "Route              1\n",
              "Dep_Time           0\n",
              "Arrival_Time       0\n",
              "Duration           0\n",
              "Total_Stops        1\n",
              "Additional_Info    0\n",
              "Price              0\n",
              "dtype: int64"
            ]
          },
          "execution_count": 6,
          "metadata": {},
          "output_type": "execute_result"
        }
      ],
      "source": [
        "# Verifica valores Missing\n",
        "train_df.isnull().sum()"
      ]
    },
    {
      "cell_type": "code",
      "execution_count": 7,
      "metadata": {
        "id": "IZ31jFCvGf4g"
      },
      "outputs": [],
      "source": [
        "# Elimina valores Missing\n",
        "train_df.dropna(inplace = True)"
      ]
    },
    {
      "cell_type": "code",
      "execution_count": 8,
      "metadata": {
        "colab": {
          "base_uri": "https://localhost:8080/"
        },
        "id": "VMchzcluGf7W",
        "outputId": "d16825c8-477f-4228-96c5-ecb8be329adf"
      },
      "outputs": [
        {
          "data": {
            "text/plain": [
              "Airline            0\n",
              "Date_of_Journey    0\n",
              "Source             0\n",
              "Destination        0\n",
              "Route              0\n",
              "Dep_Time           0\n",
              "Arrival_Time       0\n",
              "Duration           0\n",
              "Total_Stops        0\n",
              "Additional_Info    0\n",
              "Price              0\n",
              "dtype: int64"
            ]
          },
          "execution_count": 8,
          "metadata": {},
          "output_type": "execute_result"
        }
      ],
      "source": [
        "# Verifica eliminação\n",
        "train_df.isnull().sum()"
      ]
    },
    {
      "cell_type": "code",
      "execution_count": 9,
      "metadata": {
        "colab": {
          "base_uri": "https://localhost:8080/",
          "height": 206
        },
        "id": "m8h2JODJGf9x",
        "outputId": "295b742c-7886-4b10-b02d-348d0c639706"
      },
      "outputs": [
        {
          "data": {
            "text/html": [
              "<div>\n",
              "<style scoped>\n",
              "    .dataframe tbody tr th:only-of-type {\n",
              "        vertical-align: middle;\n",
              "    }\n",
              "\n",
              "    .dataframe tbody tr th {\n",
              "        vertical-align: top;\n",
              "    }\n",
              "\n",
              "    .dataframe thead th {\n",
              "        text-align: right;\n",
              "    }\n",
              "</style>\n",
              "<table border=\"1\" class=\"dataframe\">\n",
              "  <thead>\n",
              "    <tr style=\"text-align: right;\">\n",
              "      <th></th>\n",
              "      <th>Airline</th>\n",
              "      <th>Date_of_Journey</th>\n",
              "      <th>Source</th>\n",
              "      <th>Destination</th>\n",
              "      <th>Route</th>\n",
              "      <th>Dep_Time</th>\n",
              "      <th>Arrival_Time</th>\n",
              "      <th>Duration</th>\n",
              "      <th>Total_Stops</th>\n",
              "      <th>Additional_Info</th>\n",
              "      <th>Price</th>\n",
              "    </tr>\n",
              "  </thead>\n",
              "  <tbody>\n",
              "    <tr>\n",
              "      <th>683</th>\n",
              "      <td>Jet Airways</td>\n",
              "      <td>1/06/2019</td>\n",
              "      <td>Delhi</td>\n",
              "      <td>Cochin</td>\n",
              "      <td>DEL → NAG → BOM → COK</td>\n",
              "      <td>14:35</td>\n",
              "      <td>04:25 02 Jun</td>\n",
              "      <td>13h 50m</td>\n",
              "      <td>2 stops</td>\n",
              "      <td>No info</td>\n",
              "      <td>13376</td>\n",
              "    </tr>\n",
              "    <tr>\n",
              "      <th>1061</th>\n",
              "      <td>Air India</td>\n",
              "      <td>21/05/2019</td>\n",
              "      <td>Delhi</td>\n",
              "      <td>Cochin</td>\n",
              "      <td>DEL → GOI → BOM → COK</td>\n",
              "      <td>22:00</td>\n",
              "      <td>19:15 22 May</td>\n",
              "      <td>21h 15m</td>\n",
              "      <td>2 stops</td>\n",
              "      <td>No info</td>\n",
              "      <td>10231</td>\n",
              "    </tr>\n",
              "    <tr>\n",
              "      <th>1348</th>\n",
              "      <td>Air India</td>\n",
              "      <td>18/05/2019</td>\n",
              "      <td>Delhi</td>\n",
              "      <td>Cochin</td>\n",
              "      <td>DEL → HYD → BOM → COK</td>\n",
              "      <td>17:15</td>\n",
              "      <td>19:15 19 May</td>\n",
              "      <td>26h</td>\n",
              "      <td>2 stops</td>\n",
              "      <td>No info</td>\n",
              "      <td>12392</td>\n",
              "    </tr>\n",
              "    <tr>\n",
              "      <th>1418</th>\n",
              "      <td>Jet Airways</td>\n",
              "      <td>6/06/2019</td>\n",
              "      <td>Delhi</td>\n",
              "      <td>Cochin</td>\n",
              "      <td>DEL → JAI → BOM → COK</td>\n",
              "      <td>05:30</td>\n",
              "      <td>04:25 07 Jun</td>\n",
              "      <td>22h 55m</td>\n",
              "      <td>2 stops</td>\n",
              "      <td>In-flight meal not included</td>\n",
              "      <td>10368</td>\n",
              "    </tr>\n",
              "    <tr>\n",
              "      <th>1674</th>\n",
              "      <td>IndiGo</td>\n",
              "      <td>24/03/2019</td>\n",
              "      <td>Banglore</td>\n",
              "      <td>New Delhi</td>\n",
              "      <td>BLR → DEL</td>\n",
              "      <td>18:25</td>\n",
              "      <td>21:20</td>\n",
              "      <td>2h 55m</td>\n",
              "      <td>non-stop</td>\n",
              "      <td>No info</td>\n",
              "      <td>7303</td>\n",
              "    </tr>\n",
              "  </tbody>\n",
              "</table>\n",
              "</div>"
            ],
            "text/plain": [
              "          Airline Date_of_Journey    Source Destination  \\\n",
              "683   Jet Airways       1/06/2019     Delhi      Cochin   \n",
              "1061    Air India      21/05/2019     Delhi      Cochin   \n",
              "1348    Air India      18/05/2019     Delhi      Cochin   \n",
              "1418  Jet Airways       6/06/2019     Delhi      Cochin   \n",
              "1674       IndiGo      24/03/2019  Banglore   New Delhi   \n",
              "\n",
              "                      Route Dep_Time  Arrival_Time Duration Total_Stops  \\\n",
              "683   DEL → NAG → BOM → COK    14:35  04:25 02 Jun  13h 50m     2 stops   \n",
              "1061  DEL → GOI → BOM → COK    22:00  19:15 22 May  21h 15m     2 stops   \n",
              "1348  DEL → HYD → BOM → COK    17:15  19:15 19 May      26h     2 stops   \n",
              "1418  DEL → JAI → BOM → COK    05:30  04:25 07 Jun  22h 55m     2 stops   \n",
              "1674              BLR → DEL    18:25         21:20   2h 55m    non-stop   \n",
              "\n",
              "                  Additional_Info  Price  \n",
              "683                       No info  13376  \n",
              "1061                      No info  10231  \n",
              "1348                      No info  12392  \n",
              "1418  In-flight meal not included  10368  \n",
              "1674                      No info   7303  "
            ]
          },
          "execution_count": 9,
          "metadata": {},
          "output_type": "execute_result"
        }
      ],
      "source": [
        "# Verifica valores  Duplicados\n",
        "train_df[train_df.duplicated()].head()"
      ]
    },
    {
      "cell_type": "code",
      "execution_count": 10,
      "metadata": {
        "id": "Fxw3thb3Gq8S"
      },
      "outputs": [],
      "source": [
        "# Elimina valor duplicado mantendo o 1° registro.\n",
        "train_df.drop_duplicates(keep='first',inplace=True)"
      ]
    },
    {
      "cell_type": "code",
      "execution_count": 11,
      "metadata": {
        "colab": {
          "base_uri": "https://localhost:8080/",
          "height": 49
        },
        "id": "8XVpirKlGq_P",
        "outputId": "ad6d4ae0-6941-4e3a-cef8-df7dc0a4a219"
      },
      "outputs": [
        {
          "data": {
            "text/html": [
              "<div>\n",
              "<style scoped>\n",
              "    .dataframe tbody tr th:only-of-type {\n",
              "        vertical-align: middle;\n",
              "    }\n",
              "\n",
              "    .dataframe tbody tr th {\n",
              "        vertical-align: top;\n",
              "    }\n",
              "\n",
              "    .dataframe thead th {\n",
              "        text-align: right;\n",
              "    }\n",
              "</style>\n",
              "<table border=\"1\" class=\"dataframe\">\n",
              "  <thead>\n",
              "    <tr style=\"text-align: right;\">\n",
              "      <th></th>\n",
              "      <th>Airline</th>\n",
              "      <th>Date_of_Journey</th>\n",
              "      <th>Source</th>\n",
              "      <th>Destination</th>\n",
              "      <th>Route</th>\n",
              "      <th>Dep_Time</th>\n",
              "      <th>Arrival_Time</th>\n",
              "      <th>Duration</th>\n",
              "      <th>Total_Stops</th>\n",
              "      <th>Additional_Info</th>\n",
              "      <th>Price</th>\n",
              "    </tr>\n",
              "  </thead>\n",
              "  <tbody>\n",
              "  </tbody>\n",
              "</table>\n",
              "</div>"
            ],
            "text/plain": [
              "Empty DataFrame\n",
              "Columns: [Airline, Date_of_Journey, Source, Destination, Route, Dep_Time, Arrival_Time, Duration, Total_Stops, Additional_Info, Price]\n",
              "Index: []"
            ]
          },
          "execution_count": 11,
          "metadata": {},
          "output_type": "execute_result"
        }
      ],
      "source": [
        "# Verifica eliminação\n",
        "train_df[train_df.duplicated()].head()"
      ]
    },
    {
      "cell_type": "code",
      "execution_count": 12,
      "metadata": {
        "colab": {
          "base_uri": "https://localhost:8080/"
        },
        "id": "REbYEbWkGrCT",
        "outputId": "0fd65018-1786-491b-b19e-de04956da352"
      },
      "outputs": [
        {
          "data": {
            "text/plain": [
              "(10462, 11)"
            ]
          },
          "execution_count": 12,
          "metadata": {},
          "output_type": "execute_result"
        }
      ],
      "source": [
        "# Verifica dimensoes do dataset\n",
        "train_df.shape"
      ]
    },
    {
      "cell_type": "code",
      "execution_count": 13,
      "metadata": {
        "colab": {
          "base_uri": "https://localhost:8080/"
        },
        "id": "Zvijubd6GrE1",
        "outputId": "d9f784f1-faa6-4b87-b1ec-fdc1c041ea7b"
      },
      "outputs": [
        {
          "data": {
            "text/plain": [
              "No info                         8182\n",
              "In-flight meal not included     1926\n",
              "No check-in baggage included     318\n",
              "1 Long layover                    19\n",
              "Change airports                    7\n",
              "Business class                     4\n",
              "No Info                            3\n",
              "1 Short layover                    1\n",
              "2 Long layover                     1\n",
              "Red-eye flight                     1\n",
              "Name: Additional_Info, dtype: int64"
            ]
          },
          "execution_count": 13,
          "metadata": {},
          "output_type": "execute_result"
        }
      ],
      "source": [
        "# Tabela de frequencia da variável \"Additional_Info\"\n",
        "train_df[\"Additional_Info\"].value_counts()"
      ]
    },
    {
      "cell_type": "code",
      "execution_count": 14,
      "metadata": {},
      "outputs": [
        {
          "data": {
            "text/html": [
              "<div>\n",
              "<style scoped>\n",
              "    .dataframe tbody tr th:only-of-type {\n",
              "        vertical-align: middle;\n",
              "    }\n",
              "\n",
              "    .dataframe tbody tr th {\n",
              "        vertical-align: top;\n",
              "    }\n",
              "\n",
              "    .dataframe thead th {\n",
              "        text-align: right;\n",
              "    }\n",
              "</style>\n",
              "<table border=\"1\" class=\"dataframe\">\n",
              "  <thead>\n",
              "    <tr style=\"text-align: right;\">\n",
              "      <th></th>\n",
              "      <th>Airline</th>\n",
              "      <th>Date_of_Journey</th>\n",
              "      <th>Source</th>\n",
              "      <th>Destination</th>\n",
              "      <th>Route</th>\n",
              "      <th>Dep_Time</th>\n",
              "      <th>Arrival_Time</th>\n",
              "      <th>Duration</th>\n",
              "      <th>Total_Stops</th>\n",
              "      <th>Additional_Info</th>\n",
              "      <th>Price</th>\n",
              "    </tr>\n",
              "  </thead>\n",
              "  <tbody>\n",
              "    <tr>\n",
              "      <th>0</th>\n",
              "      <td>IndiGo</td>\n",
              "      <td>24/03/2019</td>\n",
              "      <td>Banglore</td>\n",
              "      <td>New Delhi</td>\n",
              "      <td>BLR → DEL</td>\n",
              "      <td>22:20</td>\n",
              "      <td>01:10 22 Mar</td>\n",
              "      <td>2h 50m</td>\n",
              "      <td>non-stop</td>\n",
              "      <td>No info</td>\n",
              "      <td>3897</td>\n",
              "    </tr>\n",
              "    <tr>\n",
              "      <th>1</th>\n",
              "      <td>Air India</td>\n",
              "      <td>1/05/2019</td>\n",
              "      <td>Kolkata</td>\n",
              "      <td>Banglore</td>\n",
              "      <td>CCU → IXR → BBI → BLR</td>\n",
              "      <td>05:50</td>\n",
              "      <td>13:15</td>\n",
              "      <td>7h 25m</td>\n",
              "      <td>2 stops</td>\n",
              "      <td>No info</td>\n",
              "      <td>7662</td>\n",
              "    </tr>\n",
              "    <tr>\n",
              "      <th>2</th>\n",
              "      <td>Jet Airways</td>\n",
              "      <td>9/06/2019</td>\n",
              "      <td>Delhi</td>\n",
              "      <td>Cochin</td>\n",
              "      <td>DEL → LKO → BOM → COK</td>\n",
              "      <td>09:25</td>\n",
              "      <td>04:25 10 Jun</td>\n",
              "      <td>19h</td>\n",
              "      <td>2 stops</td>\n",
              "      <td>No info</td>\n",
              "      <td>13882</td>\n",
              "    </tr>\n",
              "  </tbody>\n",
              "</table>\n",
              "</div>"
            ],
            "text/plain": [
              "       Airline Date_of_Journey    Source Destination                  Route  \\\n",
              "0       IndiGo      24/03/2019  Banglore   New Delhi              BLR → DEL   \n",
              "1    Air India       1/05/2019   Kolkata    Banglore  CCU → IXR → BBI → BLR   \n",
              "2  Jet Airways       9/06/2019     Delhi      Cochin  DEL → LKO → BOM → COK   \n",
              "\n",
              "  Dep_Time  Arrival_Time Duration Total_Stops Additional_Info  Price  \n",
              "0    22:20  01:10 22 Mar   2h 50m    non-stop         No info   3897  \n",
              "1    05:50         13:15   7h 25m     2 stops         No info   7662  \n",
              "2    09:25  04:25 10 Jun      19h     2 stops         No info  13882  "
            ]
          },
          "execution_count": 14,
          "metadata": {},
          "output_type": "execute_result"
        }
      ],
      "source": [
        "train_df.head(3)"
      ]
    },
    {
      "cell_type": "code",
      "execution_count": 15,
      "metadata": {
        "colab": {
          "base_uri": "https://localhost:8080/"
        },
        "id": "Fqavp35tHFW1",
        "outputId": "b1d27c1d-a9e9-4080-95e1-8d16bf708675"
      },
      "outputs": [
        {
          "data": {
            "text/plain": [
              "array(['IndiGo', 'Air India', 'Jet Airways', 'SpiceJet',\n",
              "       'Multiple carriers', 'GoAir', 'Vistara', 'Air Asia',\n",
              "       'Vistara Premium economy', 'Jet Airways Business',\n",
              "       'Multiple carriers Premium economy', 'Trujet'], dtype=object)"
            ]
          },
          "execution_count": 15,
          "metadata": {},
          "output_type": "execute_result"
        }
      ],
      "source": [
        "# Verifica valores únicos para a variável  'Airline'\n",
        "train_df[\"Airline\"].unique()"
      ]
    },
    {
      "cell_type": "code",
      "execution_count": 16,
      "metadata": {
        "id": "t7g90ircHFdn"
      },
      "outputs": [
        {
          "data": {
            "text/plain": [
              "array(['BLR → DEL', 'CCU → IXR → BBI → BLR', 'DEL → LKO → BOM → COK',\n",
              "       'CCU → NAG → BLR', 'BLR → NAG → DEL', 'CCU → BLR',\n",
              "       'BLR → BOM → DEL', 'DEL → BOM → COK', 'DEL → BLR → COK',\n",
              "       'MAA → CCU', 'CCU → BOM → BLR', 'DEL → AMD → BOM → COK',\n",
              "       'DEL → PNQ → COK', 'DEL → CCU → BOM → COK', 'BLR → COK → DEL',\n",
              "       'DEL → IDR → BOM → COK', 'DEL → LKO → COK',\n",
              "       'CCU → GAU → DEL → BLR', 'DEL → NAG → BOM → COK',\n",
              "       'CCU → MAA → BLR', 'DEL → HYD → COK', 'CCU → HYD → BLR',\n",
              "       'DEL → COK', 'CCU → DEL → BLR', 'BLR → BOM → AMD → DEL',\n",
              "       'BOM → DEL → HYD', 'DEL → MAA → COK', 'BOM → HYD',\n",
              "       'DEL → BHO → BOM → COK', 'DEL → JAI → BOM → COK',\n",
              "       'DEL → ATQ → BOM → COK', 'DEL → JDH → BOM → COK',\n",
              "       'CCU → BBI → BOM → BLR', 'BLR → MAA → DEL',\n",
              "       'DEL → GOI → BOM → COK', 'DEL → BDQ → BOM → COK',\n",
              "       'CCU → JAI → BOM → BLR', 'CCU → BBI → BLR', 'BLR → HYD → DEL',\n",
              "       'DEL → TRV → COK', 'CCU → IXR → DEL → BLR',\n",
              "       'DEL → IXU → BOM → COK', 'CCU → IXB → BLR',\n",
              "       'BLR → BOM → JDH → DEL', 'DEL → UDR → BOM → COK',\n",
              "       'DEL → HYD → MAA → COK', 'CCU → BOM → COK → BLR',\n",
              "       'BLR → CCU → DEL', 'CCU → BOM → GOI → BLR',\n",
              "       'DEL → RPR → NAG → BOM → COK', 'DEL → HYD → BOM → COK',\n",
              "       'CCU → DEL → AMD → BLR', 'CCU → PNQ → BLR',\n",
              "       'BLR → CCU → GAU → DEL', 'CCU → DEL → COK → BLR',\n",
              "       'BLR → PNQ → DEL', 'BOM → JDH → DEL → HYD',\n",
              "       'BLR → BOM → BHO → DEL', 'DEL → AMD → COK', 'BLR → LKO → DEL',\n",
              "       'CCU → GAU → BLR', 'BOM → GOI → HYD', 'CCU → BOM → AMD → BLR',\n",
              "       'CCU → BBI → IXR → DEL → BLR', 'DEL → DED → BOM → COK',\n",
              "       'DEL → MAA → BOM → COK', 'BLR → AMD → DEL', 'BLR → VGA → DEL',\n",
              "       'CCU → JAI → DEL → BLR', 'CCU → AMD → BLR',\n",
              "       'CCU → VNS → DEL → BLR', 'BLR → BOM → IDR → DEL',\n",
              "       'BLR → BBI → DEL', 'BLR → GOI → DEL', 'BOM → AMD → ISK → HYD',\n",
              "       'BOM → DED → DEL → HYD', 'DEL → IXC → BOM → COK',\n",
              "       'CCU → PAT → BLR', 'BLR → CCU → BBI → DEL',\n",
              "       'CCU → BBI → HYD → BLR', 'BLR → BOM → NAG → DEL',\n",
              "       'BLR → CCU → BBI → HYD → DEL', 'BLR → GAU → DEL',\n",
              "       'BOM → BHO → DEL → HYD', 'BOM → JLR → HYD',\n",
              "       'BLR → HYD → VGA → DEL', 'CCU → KNU → BLR',\n",
              "       'CCU → BOM → PNQ → BLR', 'DEL → BBI → COK',\n",
              "       'BLR → VGA → HYD → DEL', 'BOM → JDH → JAI → DEL → HYD',\n",
              "       'DEL → GWL → IDR → BOM → COK', 'CCU → RPR → HYD → BLR',\n",
              "       'CCU → VTZ → BLR', 'CCU → DEL → VGA → BLR',\n",
              "       'BLR → BOM → IDR → GWL → DEL', 'CCU → DEL → COK → TRV → BLR',\n",
              "       'BOM → COK → MAA → HYD', 'BOM → NDC → HYD', 'BLR → BDQ → DEL',\n",
              "       'CCU → BOM → TRV → BLR', 'CCU → BOM → HBX → BLR',\n",
              "       'BOM → BDQ → DEL → HYD', 'BOM → CCU → HYD',\n",
              "       'BLR → TRV → COK → DEL', 'BLR → IDR → DEL',\n",
              "       'CCU → IXZ → MAA → BLR', 'CCU → GAU → IMF → DEL → BLR',\n",
              "       'BOM → GOI → PNQ → HYD', 'BOM → BLR → CCU → BBI → HYD',\n",
              "       'BOM → MAA → HYD', 'BLR → BOM → UDR → DEL',\n",
              "       'BOM → UDR → DEL → HYD', 'BLR → VGA → VTZ → DEL',\n",
              "       'BLR → HBX → BOM → BHO → DEL', 'CCU → IXA → BLR',\n",
              "       'BOM → RPR → VTZ → HYD', 'BLR → HBX → BOM → AMD → DEL',\n",
              "       'BOM → IDR → DEL → HYD', 'BOM → BLR → HYD', 'BLR → STV → DEL',\n",
              "       'CCU → IXB → DEL → BLR', 'BOM → JAI → DEL → HYD',\n",
              "       'BOM → VNS → DEL → HYD', 'BLR → HBX → BOM → NAG → DEL',\n",
              "       'BLR → BOM → IXC → DEL', 'BLR → CCU → BBI → HYD → VGA → DEL',\n",
              "       'BOM → BBI → HYD'], dtype=object)"
            ]
          },
          "execution_count": 16,
          "metadata": {},
          "output_type": "execute_result"
        }
      ],
      "source": [
        "# Checando as diferentes rotas das companhias \n",
        "train_df[\"Route\"].unique()"
      ]
    },
    {
      "cell_type": "markdown",
      "metadata": {
        "id": "PRZpOl_NUwZn"
      },
      "source": [
        "#Atenção\n",
        "\n",
        "Geralmente, em competições de Machine Learning, são disponibilizados 2 datasets:\n",
        "\n",
        "**1** para vc treinar e testar a Máquina Preditiva\n",
        "\n",
        "**1** para vc usar depois que vc finalizar sua MP. \n",
        "\n",
        "Ou seja:\n",
        "\n",
        "\n",
        "Vc usa o dataset de teste para fazer as predições e submeter para o site de competição avaliar sua performance."
      ]
    },
    {
      "cell_type": "code",
      "execution_count": 17,
      "metadata": {
        "colab": {
          "base_uri": "https://localhost:8080/",
          "height": 363
        },
        "id": "zq52buYGHas0",
        "outputId": "e30c235a-ca88-4345-c4ac-fe92a8e26581"
      },
      "outputs": [
        {
          "data": {
            "text/html": [
              "<div>\n",
              "<style scoped>\n",
              "    .dataframe tbody tr th:only-of-type {\n",
              "        vertical-align: middle;\n",
              "    }\n",
              "\n",
              "    .dataframe tbody tr th {\n",
              "        vertical-align: top;\n",
              "    }\n",
              "\n",
              "    .dataframe thead th {\n",
              "        text-align: right;\n",
              "    }\n",
              "</style>\n",
              "<table border=\"1\" class=\"dataframe\">\n",
              "  <thead>\n",
              "    <tr style=\"text-align: right;\">\n",
              "      <th></th>\n",
              "      <th>Airline</th>\n",
              "      <th>Date_of_Journey</th>\n",
              "      <th>Source</th>\n",
              "      <th>Destination</th>\n",
              "      <th>Route</th>\n",
              "      <th>Dep_Time</th>\n",
              "      <th>Arrival_Time</th>\n",
              "      <th>Duration</th>\n",
              "      <th>Total_Stops</th>\n",
              "      <th>Additional_Info</th>\n",
              "    </tr>\n",
              "  </thead>\n",
              "  <tbody>\n",
              "    <tr>\n",
              "      <th>0</th>\n",
              "      <td>Jet Airways</td>\n",
              "      <td>6/06/2019</td>\n",
              "      <td>Delhi</td>\n",
              "      <td>Cochin</td>\n",
              "      <td>DEL → BOM → COK</td>\n",
              "      <td>17:30</td>\n",
              "      <td>04:25 07 Jun</td>\n",
              "      <td>10h 55m</td>\n",
              "      <td>1 stop</td>\n",
              "      <td>No info</td>\n",
              "    </tr>\n",
              "    <tr>\n",
              "      <th>1</th>\n",
              "      <td>IndiGo</td>\n",
              "      <td>12/05/2019</td>\n",
              "      <td>Kolkata</td>\n",
              "      <td>Banglore</td>\n",
              "      <td>CCU → MAA → BLR</td>\n",
              "      <td>06:20</td>\n",
              "      <td>10:20</td>\n",
              "      <td>4h</td>\n",
              "      <td>1 stop</td>\n",
              "      <td>No info</td>\n",
              "    </tr>\n",
              "    <tr>\n",
              "      <th>2</th>\n",
              "      <td>Jet Airways</td>\n",
              "      <td>21/05/2019</td>\n",
              "      <td>Delhi</td>\n",
              "      <td>Cochin</td>\n",
              "      <td>DEL → BOM → COK</td>\n",
              "      <td>19:15</td>\n",
              "      <td>19:00 22 May</td>\n",
              "      <td>23h 45m</td>\n",
              "      <td>1 stop</td>\n",
              "      <td>In-flight meal not included</td>\n",
              "    </tr>\n",
              "    <tr>\n",
              "      <th>3</th>\n",
              "      <td>Multiple carriers</td>\n",
              "      <td>21/05/2019</td>\n",
              "      <td>Delhi</td>\n",
              "      <td>Cochin</td>\n",
              "      <td>DEL → BOM → COK</td>\n",
              "      <td>08:00</td>\n",
              "      <td>21:00</td>\n",
              "      <td>13h</td>\n",
              "      <td>1 stop</td>\n",
              "      <td>No info</td>\n",
              "    </tr>\n",
              "    <tr>\n",
              "      <th>4</th>\n",
              "      <td>Air Asia</td>\n",
              "      <td>24/06/2019</td>\n",
              "      <td>Banglore</td>\n",
              "      <td>Delhi</td>\n",
              "      <td>BLR → DEL</td>\n",
              "      <td>23:55</td>\n",
              "      <td>02:45 25 Jun</td>\n",
              "      <td>2h 50m</td>\n",
              "      <td>non-stop</td>\n",
              "      <td>No info</td>\n",
              "    </tr>\n",
              "    <tr>\n",
              "      <th>5</th>\n",
              "      <td>Jet Airways</td>\n",
              "      <td>12/06/2019</td>\n",
              "      <td>Delhi</td>\n",
              "      <td>Cochin</td>\n",
              "      <td>DEL → BOM → COK</td>\n",
              "      <td>18:15</td>\n",
              "      <td>12:35 13 Jun</td>\n",
              "      <td>18h 20m</td>\n",
              "      <td>1 stop</td>\n",
              "      <td>In-flight meal not included</td>\n",
              "    </tr>\n",
              "    <tr>\n",
              "      <th>6</th>\n",
              "      <td>Air India</td>\n",
              "      <td>12/03/2019</td>\n",
              "      <td>Banglore</td>\n",
              "      <td>New Delhi</td>\n",
              "      <td>BLR → TRV → DEL</td>\n",
              "      <td>07:30</td>\n",
              "      <td>22:35</td>\n",
              "      <td>15h 5m</td>\n",
              "      <td>1 stop</td>\n",
              "      <td>No info</td>\n",
              "    </tr>\n",
              "    <tr>\n",
              "      <th>7</th>\n",
              "      <td>IndiGo</td>\n",
              "      <td>1/05/2019</td>\n",
              "      <td>Kolkata</td>\n",
              "      <td>Banglore</td>\n",
              "      <td>CCU → HYD → BLR</td>\n",
              "      <td>15:15</td>\n",
              "      <td>20:30</td>\n",
              "      <td>5h 15m</td>\n",
              "      <td>1 stop</td>\n",
              "      <td>No info</td>\n",
              "    </tr>\n",
              "    <tr>\n",
              "      <th>8</th>\n",
              "      <td>IndiGo</td>\n",
              "      <td>15/03/2019</td>\n",
              "      <td>Kolkata</td>\n",
              "      <td>Banglore</td>\n",
              "      <td>CCU → BLR</td>\n",
              "      <td>10:10</td>\n",
              "      <td>12:55</td>\n",
              "      <td>2h 45m</td>\n",
              "      <td>non-stop</td>\n",
              "      <td>No info</td>\n",
              "    </tr>\n",
              "    <tr>\n",
              "      <th>9</th>\n",
              "      <td>Jet Airways</td>\n",
              "      <td>18/05/2019</td>\n",
              "      <td>Kolkata</td>\n",
              "      <td>Banglore</td>\n",
              "      <td>CCU → BOM → BLR</td>\n",
              "      <td>16:30</td>\n",
              "      <td>22:35</td>\n",
              "      <td>6h 5m</td>\n",
              "      <td>1 stop</td>\n",
              "      <td>No info</td>\n",
              "    </tr>\n",
              "  </tbody>\n",
              "</table>\n",
              "</div>"
            ],
            "text/plain": [
              "             Airline Date_of_Journey    Source Destination            Route  \\\n",
              "0        Jet Airways       6/06/2019     Delhi      Cochin  DEL → BOM → COK   \n",
              "1             IndiGo      12/05/2019   Kolkata    Banglore  CCU → MAA → BLR   \n",
              "2        Jet Airways      21/05/2019     Delhi      Cochin  DEL → BOM → COK   \n",
              "3  Multiple carriers      21/05/2019     Delhi      Cochin  DEL → BOM → COK   \n",
              "4           Air Asia      24/06/2019  Banglore       Delhi        BLR → DEL   \n",
              "5        Jet Airways      12/06/2019     Delhi      Cochin  DEL → BOM → COK   \n",
              "6          Air India      12/03/2019  Banglore   New Delhi  BLR → TRV → DEL   \n",
              "7             IndiGo       1/05/2019   Kolkata    Banglore  CCU → HYD → BLR   \n",
              "8             IndiGo      15/03/2019   Kolkata    Banglore        CCU → BLR   \n",
              "9        Jet Airways      18/05/2019   Kolkata    Banglore  CCU → BOM → BLR   \n",
              "\n",
              "  Dep_Time  Arrival_Time Duration Total_Stops              Additional_Info  \n",
              "0    17:30  04:25 07 Jun  10h 55m      1 stop                      No info  \n",
              "1    06:20         10:20       4h      1 stop                      No info  \n",
              "2    19:15  19:00 22 May  23h 45m      1 stop  In-flight meal not included  \n",
              "3    08:00         21:00      13h      1 stop                      No info  \n",
              "4    23:55  02:45 25 Jun   2h 50m    non-stop                      No info  \n",
              "5    18:15  12:35 13 Jun  18h 20m      1 stop  In-flight meal not included  \n",
              "6    07:30         22:35   15h 5m      1 stop                      No info  \n",
              "7    15:15         20:30   5h 15m      1 stop                      No info  \n",
              "8    10:10         12:55   2h 45m    non-stop                      No info  \n",
              "9    16:30         22:35    6h 5m      1 stop                      No info  "
            ]
          },
          "execution_count": 17,
          "metadata": {},
          "output_type": "execute_result"
        }
      ],
      "source": [
        "# Agora vamos ver nosso conjunto de dados de teste\n",
        "test_df = pd.read_excel(\"Test_set.xlsx\")\n",
        "test_df.head(10)"
      ]
    },
    {
      "cell_type": "code",
      "execution_count": 18,
      "metadata": {
        "id": "kRQ4aj4IHayl"
      },
      "outputs": [
        {
          "data": {
            "text/html": [
              "<div>\n",
              "<style scoped>\n",
              "    .dataframe tbody tr th:only-of-type {\n",
              "        vertical-align: middle;\n",
              "    }\n",
              "\n",
              "    .dataframe tbody tr th {\n",
              "        vertical-align: top;\n",
              "    }\n",
              "\n",
              "    .dataframe thead th {\n",
              "        text-align: right;\n",
              "    }\n",
              "</style>\n",
              "<table border=\"1\" class=\"dataframe\">\n",
              "  <thead>\n",
              "    <tr style=\"text-align: right;\">\n",
              "      <th></th>\n",
              "      <th>Airline</th>\n",
              "      <th>Date_of_Journey</th>\n",
              "      <th>Source</th>\n",
              "      <th>Destination</th>\n",
              "      <th>Route</th>\n",
              "      <th>Dep_Time</th>\n",
              "      <th>Arrival_Time</th>\n",
              "      <th>Duration</th>\n",
              "      <th>Total_Stops</th>\n",
              "      <th>Additional_Info</th>\n",
              "    </tr>\n",
              "  </thead>\n",
              "  <tbody>\n",
              "    <tr>\n",
              "      <th>count</th>\n",
              "      <td>2671</td>\n",
              "      <td>2671</td>\n",
              "      <td>2671</td>\n",
              "      <td>2671</td>\n",
              "      <td>2671</td>\n",
              "      <td>2671</td>\n",
              "      <td>2671</td>\n",
              "      <td>2671</td>\n",
              "      <td>2671</td>\n",
              "      <td>2671</td>\n",
              "    </tr>\n",
              "    <tr>\n",
              "      <th>unique</th>\n",
              "      <td>11</td>\n",
              "      <td>44</td>\n",
              "      <td>5</td>\n",
              "      <td>6</td>\n",
              "      <td>100</td>\n",
              "      <td>199</td>\n",
              "      <td>704</td>\n",
              "      <td>320</td>\n",
              "      <td>5</td>\n",
              "      <td>6</td>\n",
              "    </tr>\n",
              "    <tr>\n",
              "      <th>top</th>\n",
              "      <td>Jet Airways</td>\n",
              "      <td>9/05/2019</td>\n",
              "      <td>Delhi</td>\n",
              "      <td>Cochin</td>\n",
              "      <td>DEL → BOM → COK</td>\n",
              "      <td>10:00</td>\n",
              "      <td>19:00</td>\n",
              "      <td>2h 50m</td>\n",
              "      <td>1 stop</td>\n",
              "      <td>No info</td>\n",
              "    </tr>\n",
              "    <tr>\n",
              "      <th>freq</th>\n",
              "      <td>897</td>\n",
              "      <td>144</td>\n",
              "      <td>1145</td>\n",
              "      <td>1145</td>\n",
              "      <td>624</td>\n",
              "      <td>62</td>\n",
              "      <td>113</td>\n",
              "      <td>122</td>\n",
              "      <td>1431</td>\n",
              "      <td>2148</td>\n",
              "    </tr>\n",
              "  </tbody>\n",
              "</table>\n",
              "</div>"
            ],
            "text/plain": [
              "            Airline Date_of_Journey Source Destination            Route  \\\n",
              "count          2671            2671   2671        2671             2671   \n",
              "unique           11              44      5           6              100   \n",
              "top     Jet Airways       9/05/2019  Delhi      Cochin  DEL → BOM → COK   \n",
              "freq            897             144   1145        1145              624   \n",
              "\n",
              "       Dep_Time Arrival_Time Duration Total_Stops Additional_Info  \n",
              "count      2671         2671     2671        2671            2671  \n",
              "unique      199          704      320           5               6  \n",
              "top       10:00        19:00   2h 50m      1 stop         No info  \n",
              "freq         62          113      122        1431            2148  "
            ]
          },
          "execution_count": 18,
          "metadata": {},
          "output_type": "execute_result"
        }
      ],
      "source": [
        "# Estatísticas\n",
        "test_df.describe()"
      ]
    },
    {
      "cell_type": "code",
      "execution_count": 19,
      "metadata": {
        "id": "ASLlI_PEIYlG"
      },
      "outputs": [
        {
          "name": "stdout",
          "output_type": "stream",
          "text": [
            "<class 'pandas.core.frame.DataFrame'>\n",
            "RangeIndex: 2671 entries, 0 to 2670\n",
            "Data columns (total 10 columns):\n",
            " #   Column           Non-Null Count  Dtype \n",
            "---  ------           --------------  ----- \n",
            " 0   Airline          2671 non-null   object\n",
            " 1   Date_of_Journey  2671 non-null   object\n",
            " 2   Source           2671 non-null   object\n",
            " 3   Destination      2671 non-null   object\n",
            " 4   Route            2671 non-null   object\n",
            " 5   Dep_Time         2671 non-null   object\n",
            " 6   Arrival_Time     2671 non-null   object\n",
            " 7   Duration         2671 non-null   object\n",
            " 8   Total_Stops      2671 non-null   object\n",
            " 9   Additional_Info  2671 non-null   object\n",
            "dtypes: object(10)\n",
            "memory usage: 208.8+ KB\n"
          ]
        }
      ],
      "source": [
        "# Informações adicionais do dataset\n",
        "test_df.info()"
      ]
    },
    {
      "cell_type": "code",
      "execution_count": 20,
      "metadata": {
        "colab": {
          "base_uri": "https://localhost:8080/",
          "height": 438
        },
        "id": "c1vxOykEHa11",
        "outputId": "1a8363c1-876d-46d0-fc2a-63ebb82eddd8"
      },
      "outputs": [
        {
          "data": {
            "image/png": "[encoded data removed]",
            "text/plain": [
              "<Figure size 1728x576 with 1 Axes>"
            ]
          },
          "metadata": {
            "needs_background": "light"
          },
          "output_type": "display_data"
        }
      ],
      "source": [
        "# Plotting Price vs Airline \n",
        "sns.catplot(y = \"Price\", x = \"Airline\", data = train_df.sort_values(\"Price\", ascending = False), kind=\"boxen\", height = 8, aspect = 3)\n",
        "plt.show()"
      ]
    },
    {
      "cell_type": "code",
      "execution_count": 21,
      "metadata": {
        "colab": {
          "base_uri": "https://localhost:8080/",
          "height": 297
        },
        "id": "jVvTU6QJHa5l",
        "outputId": "d96e3b0b-26ae-4092-c9ee-c5b44db1dde2"
      },
      "outputs": [
        {
          "data": {
            "image/png": "[encoded data removed]",
            "text/plain": [
              "<Figure size 864x288 with 1 Axes>"
            ]
          },
          "metadata": {
            "needs_background": "light"
          },
          "output_type": "display_data"
        }
      ],
      "source": [
        "# Plotting Violin plot for Price vs Source\n",
        "sns.catplot(y = \"Price\", x = \"Source\", data = train_df.sort_values(\"Price\", ascending = False), kind=\"boxen\", height = 4, aspect = 3)\n",
        "plt.show()"
      ]
    },
    {
      "cell_type": "code",
      "execution_count": 22,
      "metadata": {
        "colab": {
          "base_uri": "https://localhost:8080/",
          "height": 297
        },
        "id": "lH9h3VAmIKtP",
        "outputId": "bf22f9ae-eeee-4c70-ce12-56353aba6134"
      },
      "outputs": [
        {
          "data": {
            "image/png": "[encoded data removed]",
            "text/plain": [
              "<Figure size 864x288 with 1 Axes>"
            ]
          },
          "metadata": {
            "needs_background": "light"
          },
          "output_type": "display_data"
        }
      ],
      "source": [
        "# Plotting Box plot for Price vs Destination\n",
        "sns.catplot(y = \"Price\", x = \"Destination\", data = train_df.sort_values(\"Price\", ascending = False), kind=\"box\", height = 4, aspect = 3)\n",
        "plt.show()"
      ]
    },
    {
      "cell_type": "markdown",
      "metadata": {
        "id": "93RN4uR_EBd0"
      },
      "source": [
        "# <font color=blue>3° Processamento dos Dados\n",
        "\n",
        "![](https://super.abril.com.br/wp-content/uploads/2017/08/como-o-aquecimento-global-estc3a1-atrapalhando-a-aviac3a7c3a3o-civil.png)"
      ]
    },
    {
      "cell_type": "code",
      "execution_count": 23,
      "metadata": {
        "colab": {
          "base_uri": "https://localhost:8080/",
          "height": 143
        },
        "id": "3NkF2go9oMQB",
        "outputId": "106e78dd-90ae-40dc-ec62-16a535891103"
      },
      "outputs": [
        {
          "data": {
            "text/html": [
              "<div>\n",
              "<style scoped>\n",
              "    .dataframe tbody tr th:only-of-type {\n",
              "        vertical-align: middle;\n",
              "    }\n",
              "\n",
              "    .dataframe tbody tr th {\n",
              "        vertical-align: top;\n",
              "    }\n",
              "\n",
              "    .dataframe thead th {\n",
              "        text-align: right;\n",
              "    }\n",
              "</style>\n",
              "<table border=\"1\" class=\"dataframe\">\n",
              "  <thead>\n",
              "    <tr style=\"text-align: right;\">\n",
              "      <th></th>\n",
              "      <th>Airline</th>\n",
              "      <th>Date_of_Journey</th>\n",
              "      <th>Source</th>\n",
              "      <th>Destination</th>\n",
              "      <th>Route</th>\n",
              "      <th>Dep_Time</th>\n",
              "      <th>Arrival_Time</th>\n",
              "      <th>Duration</th>\n",
              "      <th>Total_Stops</th>\n",
              "      <th>Additional_Info</th>\n",
              "      <th>Price</th>\n",
              "    </tr>\n",
              "  </thead>\n",
              "  <tbody>\n",
              "    <tr>\n",
              "      <th>0</th>\n",
              "      <td>IndiGo</td>\n",
              "      <td>24/03/2019</td>\n",
              "      <td>Banglore</td>\n",
              "      <td>New Delhi</td>\n",
              "      <td>BLR → DEL</td>\n",
              "      <td>22:20</td>\n",
              "      <td>01:10 22 Mar</td>\n",
              "      <td>2h 50m</td>\n",
              "      <td>non-stop</td>\n",
              "      <td>No info</td>\n",
              "      <td>3897</td>\n",
              "    </tr>\n",
              "    <tr>\n",
              "      <th>1</th>\n",
              "      <td>Air India</td>\n",
              "      <td>1/05/2019</td>\n",
              "      <td>Kolkata</td>\n",
              "      <td>Banglore</td>\n",
              "      <td>CCU → IXR → BBI → BLR</td>\n",
              "      <td>05:50</td>\n",
              "      <td>13:15</td>\n",
              "      <td>7h 25m</td>\n",
              "      <td>2 stops</td>\n",
              "      <td>No info</td>\n",
              "      <td>7662</td>\n",
              "    </tr>\n",
              "    <tr>\n",
              "      <th>2</th>\n",
              "      <td>Jet Airways</td>\n",
              "      <td>9/06/2019</td>\n",
              "      <td>Delhi</td>\n",
              "      <td>Cochin</td>\n",
              "      <td>DEL → LKO → BOM → COK</td>\n",
              "      <td>09:25</td>\n",
              "      <td>04:25 10 Jun</td>\n",
              "      <td>19h</td>\n",
              "      <td>2 stops</td>\n",
              "      <td>No info</td>\n",
              "      <td>13882</td>\n",
              "    </tr>\n",
              "  </tbody>\n",
              "</table>\n",
              "</div>"
            ],
            "text/plain": [
              "       Airline Date_of_Journey    Source Destination                  Route  \\\n",
              "0       IndiGo      24/03/2019  Banglore   New Delhi              BLR → DEL   \n",
              "1    Air India       1/05/2019   Kolkata    Banglore  CCU → IXR → BBI → BLR   \n",
              "2  Jet Airways       9/06/2019     Delhi      Cochin  DEL → LKO → BOM → COK   \n",
              "\n",
              "  Dep_Time  Arrival_Time Duration Total_Stops Additional_Info  Price  \n",
              "0    22:20  01:10 22 Mar   2h 50m    non-stop         No info   3897  \n",
              "1    05:50         13:15   7h 25m     2 stops         No info   7662  \n",
              "2    09:25  04:25 10 Jun      19h     2 stops         No info  13882  "
            ]
          },
          "execution_count": 23,
          "metadata": {},
          "output_type": "execute_result"
        }
      ],
      "source": [
        "train_df.head(3)"
      ]
    },
    {
      "cell_type": "code",
      "execution_count": 24,
      "metadata": {
        "id": "-gGO9avqIRr6"
      },
      "outputs": [],
      "source": [
        "# Convertendo a variável Duration em horas e minutos\n",
        "\n",
        "train_df['Duration'] = train_df['Duration'].str.replace(\"h\", '*60').str.replace(' ','+').str.replace('m','*1').apply(eval)\n",
        "test_df['Duration'] = test_df['Duration'].str.replace(\"h\", '*60').str.replace(' ','+').str.replace('m','*1').apply(eval)"
      ]
    },
    {
      "cell_type": "code",
      "execution_count": 26,
      "metadata": {
        "colab": {
          "base_uri": "https://localhost:8080/",
          "height": 81
        },
        "id": "6ZRCnmXrV6Yu",
        "outputId": "ebc669ab-75b5-48cc-a6c6-d8eb28e42a10"
      },
      "outputs": [
        {
          "data": {
            "text/html": [
              "<div>\n",
              "<style scoped>\n",
              "    .dataframe tbody tr th:only-of-type {\n",
              "        vertical-align: middle;\n",
              "    }\n",
              "\n",
              "    .dataframe tbody tr th {\n",
              "        vertical-align: top;\n",
              "    }\n",
              "\n",
              "    .dataframe thead th {\n",
              "        text-align: right;\n",
              "    }\n",
              "</style>\n",
              "<table border=\"1\" class=\"dataframe\">\n",
              "  <thead>\n",
              "    <tr style=\"text-align: right;\">\n",
              "      <th></th>\n",
              "      <th>Airline</th>\n",
              "      <th>Date_of_Journey</th>\n",
              "      <th>Source</th>\n",
              "      <th>Destination</th>\n",
              "      <th>Route</th>\n",
              "      <th>Dep_Time</th>\n",
              "      <th>Arrival_Time</th>\n",
              "      <th>Duration</th>\n",
              "      <th>Total_Stops</th>\n",
              "      <th>Additional_Info</th>\n",
              "      <th>Price</th>\n",
              "    </tr>\n",
              "  </thead>\n",
              "  <tbody>\n",
              "    <tr>\n",
              "      <th>0</th>\n",
              "      <td>IndiGo</td>\n",
              "      <td>24/03/2019</td>\n",
              "      <td>Banglore</td>\n",
              "      <td>New Delhi</td>\n",
              "      <td>BLR → DEL</td>\n",
              "      <td>22:20</td>\n",
              "      <td>01:10 22 Mar</td>\n",
              "      <td>170</td>\n",
              "      <td>non-stop</td>\n",
              "      <td>No info</td>\n",
              "      <td>3897</td>\n",
              "    </tr>\n",
              "    <tr>\n",
              "      <th>1</th>\n",
              "      <td>Air India</td>\n",
              "      <td>1/05/2019</td>\n",
              "      <td>Kolkata</td>\n",
              "      <td>Banglore</td>\n",
              "      <td>CCU → IXR → BBI → BLR</td>\n",
              "      <td>05:50</td>\n",
              "      <td>13:15</td>\n",
              "      <td>445</td>\n",
              "      <td>2 stops</td>\n",
              "      <td>No info</td>\n",
              "      <td>7662</td>\n",
              "    </tr>\n",
              "  </tbody>\n",
              "</table>\n",
              "</div>"
            ],
            "text/plain": [
              "     Airline Date_of_Journey    Source Destination                  Route  \\\n",
              "0     IndiGo      24/03/2019  Banglore   New Delhi              BLR → DEL   \n",
              "1  Air India       1/05/2019   Kolkata    Banglore  CCU → IXR → BBI → BLR   \n",
              "\n",
              "  Dep_Time  Arrival_Time  Duration Total_Stops Additional_Info  Price  \n",
              "0    22:20  01:10 22 Mar       170    non-stop         No info   3897  \n",
              "1    05:50         13:15       445     2 stops         No info   7662  "
            ]
          },
          "execution_count": 26,
          "metadata": {},
          "output_type": "execute_result"
        }
      ],
      "source": [
        "train_df.head(2)"
      ]
    },
    {
      "cell_type": "code",
      "execution_count": 27,
      "metadata": {
        "id": "uJeHIQ_mIRu1"
      },
      "outputs": [],
      "source": [
        "# Date_of_Journey\n",
        "train_df[\"Journey_day\"] = train_df['Date_of_Journey'].str.split('/').str[0].astype(int)\n",
        "train_df[\"Journey_month\"] = train_df['Date_of_Journey'].str.split('/').str[1].astype(int)\n",
        "train_df.drop([\"Date_of_Journey\"], axis = 1, inplace = True)\n",
        "\n"
      ]
    },
    {
      "cell_type": "code",
      "execution_count": 28,
      "metadata": {},
      "outputs": [
        {
          "data": {
            "text/html": [
              "<div>\n",
              "<style scoped>\n",
              "    .dataframe tbody tr th:only-of-type {\n",
              "        vertical-align: middle;\n",
              "    }\n",
              "\n",
              "    .dataframe tbody tr th {\n",
              "        vertical-align: top;\n",
              "    }\n",
              "\n",
              "    .dataframe thead th {\n",
              "        text-align: right;\n",
              "    }\n",
              "</style>\n",
              "<table border=\"1\" class=\"dataframe\">\n",
              "  <thead>\n",
              "    <tr style=\"text-align: right;\">\n",
              "      <th></th>\n",
              "      <th>Airline</th>\n",
              "      <th>Source</th>\n",
              "      <th>Destination</th>\n",
              "      <th>Route</th>\n",
              "      <th>Dep_Time</th>\n",
              "      <th>Arrival_Time</th>\n",
              "      <th>Duration</th>\n",
              "      <th>Total_Stops</th>\n",
              "      <th>Additional_Info</th>\n",
              "      <th>Price</th>\n",
              "      <th>Journey_day</th>\n",
              "      <th>Journey_month</th>\n",
              "    </tr>\n",
              "  </thead>\n",
              "  <tbody>\n",
              "    <tr>\n",
              "      <th>0</th>\n",
              "      <td>IndiGo</td>\n",
              "      <td>Banglore</td>\n",
              "      <td>New Delhi</td>\n",
              "      <td>BLR → DEL</td>\n",
              "      <td>22:20</td>\n",
              "      <td>01:10 22 Mar</td>\n",
              "      <td>170</td>\n",
              "      <td>non-stop</td>\n",
              "      <td>No info</td>\n",
              "      <td>3897</td>\n",
              "      <td>24</td>\n",
              "      <td>3</td>\n",
              "    </tr>\n",
              "    <tr>\n",
              "      <th>1</th>\n",
              "      <td>Air India</td>\n",
              "      <td>Kolkata</td>\n",
              "      <td>Banglore</td>\n",
              "      <td>CCU → IXR → BBI → BLR</td>\n",
              "      <td>05:50</td>\n",
              "      <td>13:15</td>\n",
              "      <td>445</td>\n",
              "      <td>2 stops</td>\n",
              "      <td>No info</td>\n",
              "      <td>7662</td>\n",
              "      <td>1</td>\n",
              "      <td>5</td>\n",
              "    </tr>\n",
              "  </tbody>\n",
              "</table>\n",
              "</div>"
            ],
            "text/plain": [
              "     Airline    Source Destination                  Route Dep_Time  \\\n",
              "0     IndiGo  Banglore   New Delhi              BLR → DEL    22:20   \n",
              "1  Air India   Kolkata    Banglore  CCU → IXR → BBI → BLR    05:50   \n",
              "\n",
              "   Arrival_Time  Duration Total_Stops Additional_Info  Price  Journey_day  \\\n",
              "0  01:10 22 Mar       170    non-stop         No info   3897           24   \n",
              "1         13:15       445     2 stops         No info   7662            1   \n",
              "\n",
              "   Journey_month  \n",
              "0              3  \n",
              "1              5  "
            ]
          },
          "execution_count": 28,
          "metadata": {},
          "output_type": "execute_result"
        }
      ],
      "source": [
        "train_df.head(2)"
      ]
    },
    {
      "cell_type": "code",
      "execution_count": 29,
      "metadata": {
        "id": "YbVPeNu_IRxi"
      },
      "outputs": [],
      "source": [
        "# Dep_Time\n",
        "train_df[\"Dep_hour\"] = pd.to_datetime(train_df[\"Dep_Time\"]).dt.hour\n",
        "train_df[\"Dep_min\"] = pd.to_datetime(train_df[\"Dep_Time\"]).dt.minute\n",
        "train_df.drop([\"Dep_Time\"], axis = 1, inplace = True)\n",
        "\n"
      ]
    },
    {
      "cell_type": "code",
      "execution_count": 30,
      "metadata": {},
      "outputs": [
        {
          "data": {
            "text/html": [
              "<div>\n",
              "<style scoped>\n",
              "    .dataframe tbody tr th:only-of-type {\n",
              "        vertical-align: middle;\n",
              "    }\n",
              "\n",
              "    .dataframe tbody tr th {\n",
              "        vertical-align: top;\n",
              "    }\n",
              "\n",
              "    .dataframe thead th {\n",
              "        text-align: right;\n",
              "    }\n",
              "</style>\n",
              "<table border=\"1\" class=\"dataframe\">\n",
              "  <thead>\n",
              "    <tr style=\"text-align: right;\">\n",
              "      <th></th>\n",
              "      <th>Airline</th>\n",
              "      <th>Source</th>\n",
              "      <th>Destination</th>\n",
              "      <th>Route</th>\n",
              "      <th>Arrival_Time</th>\n",
              "      <th>Duration</th>\n",
              "      <th>Total_Stops</th>\n",
              "      <th>Additional_Info</th>\n",
              "      <th>Price</th>\n",
              "      <th>Journey_day</th>\n",
              "      <th>Journey_month</th>\n",
              "      <th>Dep_hour</th>\n",
              "      <th>Dep_min</th>\n",
              "    </tr>\n",
              "  </thead>\n",
              "  <tbody>\n",
              "    <tr>\n",
              "      <th>0</th>\n",
              "      <td>IndiGo</td>\n",
              "      <td>Banglore</td>\n",
              "      <td>New Delhi</td>\n",
              "      <td>BLR → DEL</td>\n",
              "      <td>01:10 22 Mar</td>\n",
              "      <td>170</td>\n",
              "      <td>non-stop</td>\n",
              "      <td>No info</td>\n",
              "      <td>3897</td>\n",
              "      <td>24</td>\n",
              "      <td>3</td>\n",
              "      <td>22</td>\n",
              "      <td>20</td>\n",
              "    </tr>\n",
              "    <tr>\n",
              "      <th>1</th>\n",
              "      <td>Air India</td>\n",
              "      <td>Kolkata</td>\n",
              "      <td>Banglore</td>\n",
              "      <td>CCU → IXR → BBI → BLR</td>\n",
              "      <td>13:15</td>\n",
              "      <td>445</td>\n",
              "      <td>2 stops</td>\n",
              "      <td>No info</td>\n",
              "      <td>7662</td>\n",
              "      <td>1</td>\n",
              "      <td>5</td>\n",
              "      <td>5</td>\n",
              "      <td>50</td>\n",
              "    </tr>\n",
              "  </tbody>\n",
              "</table>\n",
              "</div>"
            ],
            "text/plain": [
              "     Airline    Source Destination                  Route  Arrival_Time  \\\n",
              "0     IndiGo  Banglore   New Delhi              BLR → DEL  01:10 22 Mar   \n",
              "1  Air India   Kolkata    Banglore  CCU → IXR → BBI → BLR         13:15   \n",
              "\n",
              "   Duration Total_Stops Additional_Info  Price  Journey_day  Journey_month  \\\n",
              "0       170    non-stop         No info   3897           24              3   \n",
              "1       445     2 stops         No info   7662            1              5   \n",
              "\n",
              "   Dep_hour  Dep_min  \n",
              "0        22       20  \n",
              "1         5       50  "
            ]
          },
          "execution_count": 30,
          "metadata": {},
          "output_type": "execute_result"
        }
      ],
      "source": [
        "train_df.head(2)"
      ]
    },
    {
      "cell_type": "code",
      "execution_count": 31,
      "metadata": {
        "id": "GA3ZLKxnIR0S"
      },
      "outputs": [],
      "source": [
        "# Arrival_Time\n",
        "train_df[\"Arrival_hour\"] = pd.to_datetime(train_df.Arrival_Time).dt.hour\n",
        "train_df[\"Arrival_min\"] = pd.to_datetime(train_df.Arrival_Time).dt.minute\n",
        "train_df.drop([\"Arrival_Time\"], axis = 1, inplace = True)"
      ]
    },
    {
      "cell_type": "code",
      "execution_count": 32,
      "metadata": {
        "colab": {
          "base_uri": "https://localhost:8080/",
          "height": 124
        },
        "id": "tDj92WpeI5fQ",
        "outputId": "0e9ac422-2d99-40ab-dc1f-d87a47ce1999"
      },
      "outputs": [
        {
          "data": {
            "text/html": [
              "<div>\n",
              "<style scoped>\n",
              "    .dataframe tbody tr th:only-of-type {\n",
              "        vertical-align: middle;\n",
              "    }\n",
              "\n",
              "    .dataframe tbody tr th {\n",
              "        vertical-align: top;\n",
              "    }\n",
              "\n",
              "    .dataframe thead th {\n",
              "        text-align: right;\n",
              "    }\n",
              "</style>\n",
              "<table border=\"1\" class=\"dataframe\">\n",
              "  <thead>\n",
              "    <tr style=\"text-align: right;\">\n",
              "      <th></th>\n",
              "      <th>Airline</th>\n",
              "      <th>Source</th>\n",
              "      <th>Destination</th>\n",
              "      <th>Route</th>\n",
              "      <th>Duration</th>\n",
              "      <th>Total_Stops</th>\n",
              "      <th>Additional_Info</th>\n",
              "      <th>Price</th>\n",
              "      <th>Journey_day</th>\n",
              "      <th>Journey_month</th>\n",
              "      <th>Dep_hour</th>\n",
              "      <th>Dep_min</th>\n",
              "      <th>Arrival_hour</th>\n",
              "      <th>Arrival_min</th>\n",
              "    </tr>\n",
              "  </thead>\n",
              "  <tbody>\n",
              "    <tr>\n",
              "      <th>0</th>\n",
              "      <td>IndiGo</td>\n",
              "      <td>Banglore</td>\n",
              "      <td>New Delhi</td>\n",
              "      <td>BLR → DEL</td>\n",
              "      <td>170</td>\n",
              "      <td>non-stop</td>\n",
              "      <td>No info</td>\n",
              "      <td>3897</td>\n",
              "      <td>24</td>\n",
              "      <td>3</td>\n",
              "      <td>22</td>\n",
              "      <td>20</td>\n",
              "      <td>1</td>\n",
              "      <td>10</td>\n",
              "    </tr>\n",
              "    <tr>\n",
              "      <th>1</th>\n",
              "      <td>Air India</td>\n",
              "      <td>Kolkata</td>\n",
              "      <td>Banglore</td>\n",
              "      <td>CCU → IXR → BBI → BLR</td>\n",
              "      <td>445</td>\n",
              "      <td>2 stops</td>\n",
              "      <td>No info</td>\n",
              "      <td>7662</td>\n",
              "      <td>1</td>\n",
              "      <td>5</td>\n",
              "      <td>5</td>\n",
              "      <td>50</td>\n",
              "      <td>13</td>\n",
              "      <td>15</td>\n",
              "    </tr>\n",
              "  </tbody>\n",
              "</table>\n",
              "</div>"
            ],
            "text/plain": [
              "     Airline    Source Destination                  Route  Duration  \\\n",
              "0     IndiGo  Banglore   New Delhi              BLR → DEL       170   \n",
              "1  Air India   Kolkata    Banglore  CCU → IXR → BBI → BLR       445   \n",
              "\n",
              "  Total_Stops Additional_Info  Price  Journey_day  Journey_month  Dep_hour  \\\n",
              "0    non-stop         No info   3897           24              3        22   \n",
              "1     2 stops         No info   7662            1              5         5   \n",
              "\n",
              "   Dep_min  Arrival_hour  Arrival_min  \n",
              "0       20             1           10  \n",
              "1       50            13           15  "
            ]
          },
          "execution_count": 32,
          "metadata": {},
          "output_type": "execute_result"
        }
      ],
      "source": [
        "train_df.head(2)"
      ]
    },
    {
      "cell_type": "markdown",
      "metadata": {
        "id": "5A8F8db7JM7M"
      },
      "source": [
        "### **Obs: Mesmo processamento feito nos dados de treino deve ser feito nos dados de teste (ou validação da competição)**"
      ]
    },
    {
      "cell_type": "code",
      "execution_count": 33,
      "metadata": {
        "id": "tX_lFph5IR27"
      },
      "outputs": [],
      "source": [
        "# Date_of_Journey\n",
        "test_df[\"Journey_day\"] = test_df['Date_of_Journey'].str.split('/').str[0].astype(int)\n",
        "test_df[\"Journey_month\"] = test_df['Date_of_Journey'].str.split('/').str[1].astype(int)\n",
        "test_df.drop([\"Date_of_Journey\"], axis = 1, inplace = True)\n",
        "\n"
      ]
    },
    {
      "cell_type": "code",
      "execution_count": 34,
      "metadata": {
        "id": "-G_Ddk2iIR5T"
      },
      "outputs": [],
      "source": [
        "# Dep_Time\n",
        "test_df[\"Dep_hour\"] = pd.to_datetime(test_df[\"Dep_Time\"]).dt.hour\n",
        "test_df[\"Dep_min\"] = pd.to_datetime(test_df[\"Dep_Time\"]).dt.minute\n",
        "test_df.drop([\"Dep_Time\"], axis = 1, inplace = True)\n",
        "\n"
      ]
    },
    {
      "cell_type": "code",
      "execution_count": 35,
      "metadata": {
        "id": "3BfuDAGQIR8f"
      },
      "outputs": [],
      "source": [
        "# Arrival_Time\n",
        "test_df[\"Arrival_hour\"] = pd.to_datetime(test_df.Arrival_Time).dt.hour\n",
        "test_df[\"Arrival_min\"] = pd.to_datetime(test_df.Arrival_Time).dt.minute\n",
        "test_df.drop([\"Arrival_Time\"], axis = 1, inplace = True)"
      ]
    },
    {
      "cell_type": "code",
      "execution_count": 36,
      "metadata": {
        "colab": {
          "base_uri": "https://localhost:8080/"
        },
        "id": "N3mrjcAPIR_c",
        "outputId": "676251b0-c46e-420b-919d-16f254136305"
      },
      "outputs": [
        {
          "name": "stdout",
          "output_type": "stream",
          "text": [
            "<class 'pandas.core.frame.DataFrame'>\n",
            "Int64Index: 10462 entries, 0 to 10682\n",
            "Data columns (total 14 columns):\n",
            " #   Column           Non-Null Count  Dtype \n",
            "---  ------           --------------  ----- \n",
            " 0   Airline          10462 non-null  object\n",
            " 1   Source           10462 non-null  object\n",
            " 2   Destination      10462 non-null  object\n",
            " 3   Route            10462 non-null  object\n",
            " 4   Duration         10462 non-null  int64 \n",
            " 5   Total_Stops      10462 non-null  object\n",
            " 6   Additional_Info  10462 non-null  object\n",
            " 7   Price            10462 non-null  int64 \n",
            " 8   Journey_day      10462 non-null  int32 \n",
            " 9   Journey_month    10462 non-null  int32 \n",
            " 10  Dep_hour         10462 non-null  int64 \n",
            " 11  Dep_min          10462 non-null  int64 \n",
            " 12  Arrival_hour     10462 non-null  int64 \n",
            " 13  Arrival_min      10462 non-null  int64 \n",
            "dtypes: int32(2), int64(6), object(6)\n",
            "memory usage: 1.1+ MB\n"
          ]
        }
      ],
      "source": [
        "train_df.info()"
      ]
    },
    {
      "cell_type": "code",
      "execution_count": 37,
      "metadata": {
        "colab": {
          "base_uri": "https://localhost:8080/"
        },
        "id": "Z89rLeFEJZTz",
        "outputId": "29da4bd7-74dd-4e28-8e85-c25e3f26e199"
      },
      "outputs": [
        {
          "name": "stdout",
          "output_type": "stream",
          "text": [
            "<class 'pandas.core.frame.DataFrame'>\n",
            "RangeIndex: 2671 entries, 0 to 2670\n",
            "Data columns (total 13 columns):\n",
            " #   Column           Non-Null Count  Dtype \n",
            "---  ------           --------------  ----- \n",
            " 0   Airline          2671 non-null   object\n",
            " 1   Source           2671 non-null   object\n",
            " 2   Destination      2671 non-null   object\n",
            " 3   Route            2671 non-null   object\n",
            " 4   Duration         2671 non-null   int64 \n",
            " 5   Total_Stops      2671 non-null   object\n",
            " 6   Additional_Info  2671 non-null   object\n",
            " 7   Journey_day      2671 non-null   int32 \n",
            " 8   Journey_month    2671 non-null   int32 \n",
            " 9   Dep_hour         2671 non-null   int64 \n",
            " 10  Dep_min          2671 non-null   int64 \n",
            " 11  Arrival_hour     2671 non-null   int64 \n",
            " 12  Arrival_min      2671 non-null   int64 \n",
            "dtypes: int32(2), int64(5), object(6)\n",
            "memory usage: 250.5+ KB\n"
          ]
        }
      ],
      "source": [
        "test_df.info()"
      ]
    },
    {
      "cell_type": "code",
      "execution_count": 38,
      "metadata": {
        "colab": {
          "base_uri": "https://localhost:8080/",
          "height": 367
        },
        "id": "-h96naLGJZWT",
        "outputId": "754e2735-504e-452c-e2fc-68f4e50814c9"
      },
      "outputs": [
        {
          "data": {
            "text/plain": [
              "Text(0, 0.5, 'Quantidade de voos')"
            ]
          },
          "execution_count": 38,
          "metadata": {},
          "output_type": "execute_result"
        },
        {
          "data": {
            "image/png": "[encoded data removed]",
            "text/plain": [
              "<Figure size 720x360 with 1 Axes>"
            ]
          },
          "metadata": {
            "needs_background": "light"
          },
          "output_type": "display_data"
        }
      ],
      "source": [
        "# Plotting Bar chart for Months (Duration) vs Number of Flights\n",
        "plt.figure(figsize = (10, 5))\n",
        "plt.title('Contagem de voos mês a mês')\n",
        "ax=sns.countplot(x = 'Journey_month', data = train_df)\n",
        "plt.xlabel('Mês')\n",
        "plt.ylabel('Quantidade de voos')\n"
      ]
    },
    {
      "cell_type": "code",
      "execution_count": 39,
      "metadata": {
        "colab": {
          "base_uri": "https://localhost:8080/",
          "height": 507
        },
        "id": "ORGZhZwdKO6A",
        "outputId": "67152ec5-bd56-4c71-f265-b80322c92324"
      },
      "outputs": [
        {
          "data": {
            "text/plain": [
              "(array([ 0,  1,  2,  3,  4,  5,  6,  7,  8,  9, 10, 11]),\n",
              " [Text(0, 0, 'IndiGo'),\n",
              "  Text(1, 0, 'Air India'),\n",
              "  Text(2, 0, 'Jet Airways'),\n",
              "  Text(3, 0, 'SpiceJet'),\n",
              "  Text(4, 0, 'Multiple carriers'),\n",
              "  Text(5, 0, 'GoAir'),\n",
              "  Text(6, 0, 'Vistara'),\n",
              "  Text(7, 0, 'Air Asia'),\n",
              "  Text(8, 0, 'Vistara Premium economy'),\n",
              "  Text(9, 0, 'Jet Airways Business'),\n",
              "  Text(10, 0, 'Multiple carriers Premium economy'),\n",
              "  Text(11, 0, 'Trujet')])"
            ]
          },
          "execution_count": 39,
          "metadata": {},
          "output_type": "execute_result"
        },
        {
          "data": {
            "image/png": "[encoded data removed]",
            "text/plain": [
              "<Figure size 1440x360 with 1 Axes>"
            ]
          },
          "metadata": {
            "needs_background": "light"
          },
          "output_type": "display_data"
        }
      ],
      "source": [
        "# Plotting Bar chart for Types of Airline vs Number of Flights\n",
        "plt.figure(figsize = (20,5))\n",
        "plt.title('Contagem de voos com diferentes companhias aéreas')\n",
        "ax=sns.countplot(x = 'Airline', data =train_df)\n",
        "plt.xlabel('Companhia')\n",
        "plt.ylabel('Quantidade de voos')\n",
        "plt.xticks(rotation = 45)"
      ]
    },
    {
      "cell_type": "code",
      "execution_count": 40,
      "metadata": {
        "colab": {
          "base_uri": "https://localhost:8080/",
          "height": 494
        },
        "id": "EVFSD-ZCKO8t",
        "outputId": "42b67205-df45-47f7-ffd9-a138d18671c6"
      },
      "outputs": [
        {
          "data": {
            "text/plain": [
              "([0, 1, 2, 3, 4, 5, 6, 7, 8, 9, 10, 11],\n",
              " [Text(0, 0, ''),\n",
              "  Text(0, 0, ''),\n",
              "  Text(0, 0, ''),\n",
              "  Text(0, 0, ''),\n",
              "  Text(0, 0, ''),\n",
              "  Text(0, 0, ''),\n",
              "  Text(0, 0, ''),\n",
              "  Text(0, 0, ''),\n",
              "  Text(0, 0, ''),\n",
              "  Text(0, 0, ''),\n",
              "  Text(0, 0, ''),\n",
              "  Text(0, 0, '')])"
            ]
          },
          "execution_count": 40,
          "metadata": {},
          "output_type": "execute_result"
        },
        {
          "data": {
            "image/png": "[encoded data removed]",
            "text/plain": [
              "<Figure size 1080x288 with 1 Axes>"
            ]
          },
          "metadata": {
            "needs_background": "light"
          },
          "output_type": "display_data"
        }
      ],
      "source": [
        "# Plotting Ticket Prices VS Airlines\n",
        "plt.figure(figsize = (15,4))\n",
        "plt.title('Preço da Passagem por Companhia')\n",
        "plt.scatter(train_df['Airline'], train_df['Price'])\n",
        "plt.xticks\n",
        "plt.xlabel('Companhia')\n",
        "plt.ylabel('Preço da Passagem')\n",
        "plt.xticks(rotation = 75)"
      ]
    },
    {
      "cell_type": "code",
      "execution_count": 41,
      "metadata": {
        "colab": {
          "base_uri": "https://localhost:8080/",
          "height": 715
        },
        "id": "lyLkewC_KPDv",
        "outputId": "a6e9cd3e-378b-40d1-ddaa-4edacb749803"
      },
      "outputs": [
        {
          "data": {
            "image/png": "[encoded data removed]",
            "text/plain": [
              "<Figure size 792x792 with 2 Axes>"
            ]
          },
          "metadata": {
            "needs_background": "light"
          },
          "output_type": "display_data"
        }
      ],
      "source": [
        "# Plotting Correation\n",
        "plt.figure(figsize = (11,11))\n",
        "sns.heatmap(train_df.corr(), annot = True, cmap = \"RdYlGn\")\n",
        "plt.show()"
      ]
    },
    {
      "cell_type": "code",
      "execution_count": 42,
      "metadata": {
        "id": "gkDekIZaLV-i"
      },
      "outputs": [],
      "source": [
        "# Dropping the Price\n",
        "data = train_df.drop([\"Price\"], axis=1)"
      ]
    },
    {
      "cell_type": "code",
      "execution_count": 43,
      "metadata": {
        "id": "cG8IXZfULWBX"
      },
      "outputs": [],
      "source": [
        "# Categorical Data and Numerical Data\n",
        "train_categorical_data = data.select_dtypes(exclude=['int64', 'float','int32'])\n",
        "train_numerical_data = data.select_dtypes(include=['int64', 'float','int32'])\n",
        "\n",
        "test_categorical_data = test_df.select_dtypes(exclude=['int64', 'float','int32','int32'])\n",
        "test_numerical_data  = test_df.select_dtypes(include=['int64', 'float','int32'])"
      ]
    },
    {
      "cell_type": "code",
      "execution_count": 44,
      "metadata": {
        "colab": {
          "base_uri": "https://localhost:8080/",
          "height": 206
        },
        "id": "n9ErzBIgLWD8",
        "outputId": "72ae5344-3dd6-43f9-d558-609624c43361"
      },
      "outputs": [
        {
          "data": {
            "text/html": [
              "<div>\n",
              "<style scoped>\n",
              "    .dataframe tbody tr th:only-of-type {\n",
              "        vertical-align: middle;\n",
              "    }\n",
              "\n",
              "    .dataframe tbody tr th {\n",
              "        vertical-align: top;\n",
              "    }\n",
              "\n",
              "    .dataframe thead th {\n",
              "        text-align: right;\n",
              "    }\n",
              "</style>\n",
              "<table border=\"1\" class=\"dataframe\">\n",
              "  <thead>\n",
              "    <tr style=\"text-align: right;\">\n",
              "      <th></th>\n",
              "      <th>Airline</th>\n",
              "      <th>Source</th>\n",
              "      <th>Destination</th>\n",
              "      <th>Route</th>\n",
              "      <th>Total_Stops</th>\n",
              "      <th>Additional_Info</th>\n",
              "    </tr>\n",
              "  </thead>\n",
              "  <tbody>\n",
              "    <tr>\n",
              "      <th>0</th>\n",
              "      <td>IndiGo</td>\n",
              "      <td>Banglore</td>\n",
              "      <td>New Delhi</td>\n",
              "      <td>BLR → DEL</td>\n",
              "      <td>non-stop</td>\n",
              "      <td>No info</td>\n",
              "    </tr>\n",
              "    <tr>\n",
              "      <th>1</th>\n",
              "      <td>Air India</td>\n",
              "      <td>Kolkata</td>\n",
              "      <td>Banglore</td>\n",
              "      <td>CCU → IXR → BBI → BLR</td>\n",
              "      <td>2 stops</td>\n",
              "      <td>No info</td>\n",
              "    </tr>\n",
              "    <tr>\n",
              "      <th>2</th>\n",
              "      <td>Jet Airways</td>\n",
              "      <td>Delhi</td>\n",
              "      <td>Cochin</td>\n",
              "      <td>DEL → LKO → BOM → COK</td>\n",
              "      <td>2 stops</td>\n",
              "      <td>No info</td>\n",
              "    </tr>\n",
              "    <tr>\n",
              "      <th>3</th>\n",
              "      <td>IndiGo</td>\n",
              "      <td>Kolkata</td>\n",
              "      <td>Banglore</td>\n",
              "      <td>CCU → NAG → BLR</td>\n",
              "      <td>1 stop</td>\n",
              "      <td>No info</td>\n",
              "    </tr>\n",
              "    <tr>\n",
              "      <th>4</th>\n",
              "      <td>IndiGo</td>\n",
              "      <td>Banglore</td>\n",
              "      <td>New Delhi</td>\n",
              "      <td>BLR → NAG → DEL</td>\n",
              "      <td>1 stop</td>\n",
              "      <td>No info</td>\n",
              "    </tr>\n",
              "  </tbody>\n",
              "</table>\n",
              "</div>"
            ],
            "text/plain": [
              "       Airline    Source Destination                  Route Total_Stops  \\\n",
              "0       IndiGo  Banglore   New Delhi              BLR → DEL    non-stop   \n",
              "1    Air India   Kolkata    Banglore  CCU → IXR → BBI → BLR     2 stops   \n",
              "2  Jet Airways     Delhi      Cochin  DEL → LKO → BOM → COK     2 stops   \n",
              "3       IndiGo   Kolkata    Banglore        CCU → NAG → BLR      1 stop   \n",
              "4       IndiGo  Banglore   New Delhi        BLR → NAG → DEL      1 stop   \n",
              "\n",
              "  Additional_Info  \n",
              "0         No info  \n",
              "1         No info  \n",
              "2         No info  \n",
              "3         No info  \n",
              "4         No info  "
            ]
          },
          "execution_count": 44,
          "metadata": {},
          "output_type": "execute_result"
        }
      ],
      "source": [
        "train_categorical_data.head()"
      ]
    },
    {
      "cell_type": "code",
      "execution_count": 45,
      "metadata": {
        "id": "hxYZ8NVjLWGZ"
      },
      "outputs": [],
      "source": [
        "# Label Encode and Hot Encode for Categorical Columns\n",
        "le = LabelEncoder()\n",
        "train_categorical_data = train_categorical_data.apply(LabelEncoder().fit_transform)\n",
        "test_categorical_data = test_categorical_data.apply(LabelEncoder().fit_transform)"
      ]
    },
    {
      "cell_type": "code",
      "execution_count": 46,
      "metadata": {
        "colab": {
          "base_uri": "https://localhost:8080/",
          "height": 206
        },
        "id": "WGHwq_O-LWI2",
        "outputId": "90959377-b623-447f-e457-8028dc419e91"
      },
      "outputs": [
        {
          "data": {
            "text/html": [
              "<div>\n",
              "<style scoped>\n",
              "    .dataframe tbody tr th:only-of-type {\n",
              "        vertical-align: middle;\n",
              "    }\n",
              "\n",
              "    .dataframe tbody tr th {\n",
              "        vertical-align: top;\n",
              "    }\n",
              "\n",
              "    .dataframe thead th {\n",
              "        text-align: right;\n",
              "    }\n",
              "</style>\n",
              "<table border=\"1\" class=\"dataframe\">\n",
              "  <thead>\n",
              "    <tr style=\"text-align: right;\">\n",
              "      <th></th>\n",
              "      <th>Airline</th>\n",
              "      <th>Source</th>\n",
              "      <th>Destination</th>\n",
              "      <th>Route</th>\n",
              "      <th>Total_Stops</th>\n",
              "      <th>Additional_Info</th>\n",
              "    </tr>\n",
              "  </thead>\n",
              "  <tbody>\n",
              "    <tr>\n",
              "      <th>0</th>\n",
              "      <td>3</td>\n",
              "      <td>0</td>\n",
              "      <td>5</td>\n",
              "      <td>18</td>\n",
              "      <td>4</td>\n",
              "      <td>8</td>\n",
              "    </tr>\n",
              "    <tr>\n",
              "      <th>1</th>\n",
              "      <td>1</td>\n",
              "      <td>3</td>\n",
              "      <td>0</td>\n",
              "      <td>84</td>\n",
              "      <td>1</td>\n",
              "      <td>8</td>\n",
              "    </tr>\n",
              "    <tr>\n",
              "      <th>2</th>\n",
              "      <td>4</td>\n",
              "      <td>2</td>\n",
              "      <td>1</td>\n",
              "      <td>118</td>\n",
              "      <td>1</td>\n",
              "      <td>8</td>\n",
              "    </tr>\n",
              "    <tr>\n",
              "      <th>3</th>\n",
              "      <td>3</td>\n",
              "      <td>3</td>\n",
              "      <td>0</td>\n",
              "      <td>91</td>\n",
              "      <td>0</td>\n",
              "      <td>8</td>\n",
              "    </tr>\n",
              "    <tr>\n",
              "      <th>4</th>\n",
              "      <td>3</td>\n",
              "      <td>0</td>\n",
              "      <td>5</td>\n",
              "      <td>29</td>\n",
              "      <td>0</td>\n",
              "      <td>8</td>\n",
              "    </tr>\n",
              "  </tbody>\n",
              "</table>\n",
              "</div>"
            ],
            "text/plain": [
              "   Airline  Source  Destination  Route  Total_Stops  Additional_Info\n",
              "0        3       0            5     18            4                8\n",
              "1        1       3            0     84            1                8\n",
              "2        4       2            1    118            1                8\n",
              "3        3       3            0     91            0                8\n",
              "4        3       0            5     29            0                8"
            ]
          },
          "execution_count": 46,
          "metadata": {},
          "output_type": "execute_result"
        }
      ],
      "source": [
        "train_categorical_data.head()"
      ]
    },
    {
      "cell_type": "code",
      "execution_count": 47,
      "metadata": {
        "colab": {
          "base_uri": "https://localhost:8080/",
          "height": 206
        },
        "id": "LiFVpzMELWLq",
        "outputId": "f773c1ab-819d-4b9e-e9c7-b39298eb8931"
      },
      "outputs": [
        {
          "data": {
            "text/html": [
              "<div>\n",
              "<style scoped>\n",
              "    .dataframe tbody tr th:only-of-type {\n",
              "        vertical-align: middle;\n",
              "    }\n",
              "\n",
              "    .dataframe tbody tr th {\n",
              "        vertical-align: top;\n",
              "    }\n",
              "\n",
              "    .dataframe thead th {\n",
              "        text-align: right;\n",
              "    }\n",
              "</style>\n",
              "<table border=\"1\" class=\"dataframe\">\n",
              "  <thead>\n",
              "    <tr style=\"text-align: right;\">\n",
              "      <th></th>\n",
              "      <th>Airline</th>\n",
              "      <th>Source</th>\n",
              "      <th>Destination</th>\n",
              "      <th>Route</th>\n",
              "      <th>Total_Stops</th>\n",
              "      <th>Additional_Info</th>\n",
              "      <th>Duration</th>\n",
              "      <th>Journey_day</th>\n",
              "      <th>Journey_month</th>\n",
              "      <th>Dep_hour</th>\n",
              "      <th>Dep_min</th>\n",
              "      <th>Arrival_hour</th>\n",
              "      <th>Arrival_min</th>\n",
              "    </tr>\n",
              "  </thead>\n",
              "  <tbody>\n",
              "    <tr>\n",
              "      <th>0</th>\n",
              "      <td>3</td>\n",
              "      <td>0</td>\n",
              "      <td>5</td>\n",
              "      <td>18</td>\n",
              "      <td>4</td>\n",
              "      <td>8</td>\n",
              "      <td>170</td>\n",
              "      <td>24</td>\n",
              "      <td>3</td>\n",
              "      <td>22</td>\n",
              "      <td>20</td>\n",
              "      <td>1</td>\n",
              "      <td>10</td>\n",
              "    </tr>\n",
              "    <tr>\n",
              "      <th>1</th>\n",
              "      <td>1</td>\n",
              "      <td>3</td>\n",
              "      <td>0</td>\n",
              "      <td>84</td>\n",
              "      <td>1</td>\n",
              "      <td>8</td>\n",
              "      <td>445</td>\n",
              "      <td>1</td>\n",
              "      <td>5</td>\n",
              "      <td>5</td>\n",
              "      <td>50</td>\n",
              "      <td>13</td>\n",
              "      <td>15</td>\n",
              "    </tr>\n",
              "    <tr>\n",
              "      <th>2</th>\n",
              "      <td>4</td>\n",
              "      <td>2</td>\n",
              "      <td>1</td>\n",
              "      <td>118</td>\n",
              "      <td>1</td>\n",
              "      <td>8</td>\n",
              "      <td>1140</td>\n",
              "      <td>9</td>\n",
              "      <td>6</td>\n",
              "      <td>9</td>\n",
              "      <td>25</td>\n",
              "      <td>4</td>\n",
              "      <td>25</td>\n",
              "    </tr>\n",
              "    <tr>\n",
              "      <th>3</th>\n",
              "      <td>3</td>\n",
              "      <td>3</td>\n",
              "      <td>0</td>\n",
              "      <td>91</td>\n",
              "      <td>0</td>\n",
              "      <td>8</td>\n",
              "      <td>325</td>\n",
              "      <td>12</td>\n",
              "      <td>5</td>\n",
              "      <td>18</td>\n",
              "      <td>5</td>\n",
              "      <td>23</td>\n",
              "      <td>30</td>\n",
              "    </tr>\n",
              "    <tr>\n",
              "      <th>4</th>\n",
              "      <td>3</td>\n",
              "      <td>0</td>\n",
              "      <td>5</td>\n",
              "      <td>29</td>\n",
              "      <td>0</td>\n",
              "      <td>8</td>\n",
              "      <td>285</td>\n",
              "      <td>1</td>\n",
              "      <td>3</td>\n",
              "      <td>16</td>\n",
              "      <td>50</td>\n",
              "      <td>21</td>\n",
              "      <td>35</td>\n",
              "    </tr>\n",
              "  </tbody>\n",
              "</table>\n",
              "</div>"
            ],
            "text/plain": [
              "   Airline  Source  Destination  Route  Total_Stops  Additional_Info  \\\n",
              "0        3       0            5     18            4                8   \n",
              "1        1       3            0     84            1                8   \n",
              "2        4       2            1    118            1                8   \n",
              "3        3       3            0     91            0                8   \n",
              "4        3       0            5     29            0                8   \n",
              "\n",
              "   Duration  Journey_day  Journey_month  Dep_hour  Dep_min  Arrival_hour  \\\n",
              "0       170           24              3        22       20             1   \n",
              "1       445            1              5         5       50            13   \n",
              "2      1140            9              6         9       25             4   \n",
              "3       325           12              5        18        5            23   \n",
              "4       285            1              3        16       50            21   \n",
              "\n",
              "   Arrival_min  \n",
              "0           10  \n",
              "1           15  \n",
              "2           25  \n",
              "3           30  \n",
              "4           35  "
            ]
          },
          "execution_count": 47,
          "metadata": {},
          "output_type": "execute_result"
        }
      ],
      "source": [
        "# Concatenating both Catagorical Data and Numerical Data\n",
        "X = pd.concat([train_categorical_data, train_numerical_data], axis=1)\n",
        "y = train_df['Price']\n",
        "test_set = pd.concat([test_categorical_data, test_numerical_data], axis=1)\n",
        "X.head()"
      ]
    },
    {
      "cell_type": "code",
      "execution_count": 48,
      "metadata": {
        "colab": {
          "base_uri": "https://localhost:8080/"
        },
        "id": "LTbUt04eLWOk",
        "outputId": "44fe33b3-0714-4b82-bb20-cae579f42d9c"
      },
      "outputs": [
        {
          "data": {
            "text/plain": [
              "0     3897\n",
              "1     7662\n",
              "2    13882\n",
              "3     6218\n",
              "4    13302\n",
              "Name: Price, dtype: int64"
            ]
          },
          "execution_count": 48,
          "metadata": {},
          "output_type": "execute_result"
        }
      ],
      "source": [
        "y.head()"
      ]
    },
    {
      "cell_type": "code",
      "execution_count": 49,
      "metadata": {
        "id": "J64hoExgLWQq"
      },
      "outputs": [],
      "source": [
        "# Calculating Mean Absolute Percentage Error\n",
        "def mean_absolute_percentage_error(y_true, y_pred): \n",
        "\n",
        "    y_true, y_pred = np.array(y_true), np.array(y_pred)\n",
        "    \n",
        "    return np.mean(np.abs((y_true - y_pred) / y_true)) * 100"
      ]
    },
    {
      "cell_type": "code",
      "execution_count": 50,
      "metadata": {
        "id": "nLaChKmZLgYW"
      },
      "outputs": [],
      "source": [
        "# Separação dos dados de treino e teste para a MP\n",
        "X_train, X_test, y_train, y_test = train_test_split(X, y, test_size = 0.3, random_state = 7)"
      ]
    },
    {
      "cell_type": "code",
      "execution_count": 52,
      "metadata": {
        "colab": {
          "base_uri": "https://localhost:8080/"
        },
        "id": "7R0uIWRnLga2",
        "outputId": "07ada268-7c24-4853-fe90-aa03e589ba9a"
      },
      "outputs": [
        {
          "name": "stdout",
          "output_type": "stream",
          "text": [
            "O tamanho da base de treinamento (entrada):  (7323, 13)\n",
            "O tamanho da base de treinamento (saída):  (7323,)\n",
            "O tamanho da base de teste (entrada):  (3139, 13)\n",
            "O tamanho da base de teste (saída):  (3139,)\n"
          ]
        }
      ],
      "source": [
        "print(\"O tamanho da base de treinamento (entrada): \", X_train.shape)\n",
        "print(\"O tamanho da base de treinamento (saída): \", y_train.shape)\n",
        "print(\"O tamanho da base de teste (entrada): \", X_test.shape)\n",
        "print(\"O tamanho da base de teste (saída): \", y_test.shape)"
      ]
    },
    {
      "cell_type": "markdown",
      "metadata": {
        "id": "SyNsrwAmEIkx"
      },
      "source": [
        "#<font color=red>  4° Construção de Máquinas Preditivas \n",
        "\n",
        "![](https://i.giphy.com/media/cMKiyssfSf1laPo1wK/giphy.gif)"
      ]
    },
    {
      "cell_type": "markdown",
      "metadata": {
        "id": "EWJeUPAMYp1f"
      },
      "source": [
        "> # Validação Cruzada\n",
        "> ## Uma maneira de melhorar a Performance da sua Máquina Preditiva\n",
        "\n",
        "\n",
        "![](https://i.stack.imgur.com/padg4.gif)"
      ]
    },
    {
      "cell_type": "code",
      "execution_count": 53,
      "metadata": {
        "id": "Sckrc9hSLpg1"
      },
      "outputs": [],
      "source": [
        "# Performing GridSearchCV on Decision Tree Regression\n",
        "depth = list(range(1,11))\n",
        "param_grid = dict(max_depth = depth)\n"
      ]
    },
    {
      "cell_type": "code",
      "execution_count": 54,
      "metadata": {
        "colab": {
          "base_uri": "https://localhost:8080/"
        },
        "id": "G1d74k1iZWyY",
        "outputId": "ad1956ee-25f8-4710-a63c-2980c7d9811b"
      },
      "outputs": [
        {
          "data": {
            "text/plain": [
              "{'max_depth': [1, 2, 3, 4, 5, 6, 7, 8, 9, 10]}"
            ]
          },
          "execution_count": 54,
          "metadata": {},
          "output_type": "execute_result"
        }
      ],
      "source": [
        "# Lista o Grid de Parâmetro\n",
        "param_grid"
      ]
    },
    {
      "cell_type": "code",
      "execution_count": 55,
      "metadata": {
        "colab": {
          "base_uri": "https://localhost:8080/"
        },
        "id": "VJzcajMvQ0sZ",
        "outputId": "44720c82-0ee4-47f1-d812-f72cbff07ce7"
      },
      "outputs": [
        {
          "data": {
            "text/plain": [
              "GridSearchCV(cv=10, estimator=DecisionTreeRegressor(),\n",
              "             param_grid={'max_depth': [1, 2, 3, 4, 5, 6, 7, 8, 9, 10]})"
            ]
          },
          "execution_count": 55,
          "metadata": {},
          "output_type": "execute_result"
        }
      ],
      "source": [
        "# Lista os Hyperparâmetros da MP\n",
        "tree = GridSearchCV(DecisionTreeRegressor(), param_grid, cv = 10)\n",
        "tree.fit(X_train,y_train)"
      ]
    },
    {
      "cell_type": "code",
      "execution_count": 56,
      "metadata": {
        "id": "s5VT5tvMLpjL"
      },
      "outputs": [],
      "source": [
        "# Predicting train and test results\n",
        "y_train_pred = tree.predict(X_train)\n",
        "y_test_pred = tree.predict(X_test)"
      ]
    },
    {
      "cell_type": "code",
      "execution_count": 57,
      "metadata": {
        "colab": {
          "base_uri": "https://localhost:8080/"
        },
        "id": "ItZTKSO1aSz3",
        "outputId": "5ba8917b-4091-4ffa-834a-6f54c8c5d01c"
      },
      "outputs": [
        {
          "data": {
            "text/plain": [
              "{'max_depth': 10}"
            ]
          },
          "execution_count": 57,
          "metadata": {},
          "output_type": "execute_result"
        }
      ],
      "source": [
        "# Qual foi o melhor valor do Hyperparâmretro da lista de 1 a 10 (max_depth)?\n",
        "tree.best_params_"
      ]
    },
    {
      "cell_type": "markdown",
      "metadata": {
        "id": "Fqa-tLtTbonC"
      },
      "source": [
        "### Avaliando com dados de Treino"
      ]
    },
    {
      "cell_type": "code",
      "execution_count": 58,
      "metadata": {
        "colab": {
          "base_uri": "https://localhost:8080/"
        },
        "id": "bfAtC5mZLplo",
        "outputId": "4fa25a3e-0791-41ac-817e-f34ce343f518"
      },
      "outputs": [
        {
          "name": "stdout",
          "output_type": "stream",
          "text": [
            "Train Results for Decision Tree Regressor Model:\n",
            "Root Mean squared Error:  1302.7097273603508\n",
            "Mean Absolute % Error:  10\n",
            "R-Squared:  0.9193244432696516\n"
          ]
        }
      ],
      "source": [
        "# Printando as Métricas de Avaliação da MP com dados de treino\n",
        "print(\"Train Results for Decision Tree Regressor Model:\")\n",
        "print(\"Root Mean squared Error: \", sqrt(mse(y_train.values, y_train_pred)))\n",
        "print(\"Mean Absolute % Error: \", round(mean_absolute_percentage_error(y_train.values, y_train_pred)))\n",
        "print(\"R-Squared: \", r2_score(y_train.values, y_train_pred))"
      ]
    },
    {
      "cell_type": "markdown",
      "metadata": {
        "id": "Ef3dAqKvbrYg"
      },
      "source": [
        "### Avalia com dados de Teste"
      ]
    },
    {
      "cell_type": "code",
      "execution_count": 59,
      "metadata": {
        "colab": {
          "base_uri": "https://localhost:8080/"
        },
        "id": "8Z0Hf3BBLpoE",
        "outputId": "18a8cb53-9e70-4608-8cdb-5d19bce8fa03"
      },
      "outputs": [
        {
          "name": "stdout",
          "output_type": "stream",
          "text": [
            "Test Results for Decision Tree Regressor Model:\n",
            "Root Mean Squared Error:  2042.7598037498565\n",
            "Mean Absolute % Error:  12\n",
            "R-Squared:  0.8120577780868352\n"
          ]
        }
      ],
      "source": [
        "# Printando as Métricas de Avaliação da MP com dados de teste\n",
        "print(\"Test Results for Decision Tree Regressor Model:\")\n",
        "print(\"Root Mean Squared Error: \", sqrt(mse(y_test, y_test_pred)))\n",
        "print(\"Mean Absolute % Error: \", round(mean_absolute_percentage_error(y_test, y_test_pred)))\n",
        "print(\"R-Squared: \", r2_score(y_test, y_test_pred))"
      ]
    },
    {
      "cell_type": "markdown",
      "metadata": {
        "id": "_fHqFSvWe94c"
      },
      "source": [
        "## Fim!\n",
        "\n",
        "![](https://1.bp.blogspot.com/-af_NYssF5Wc/WYF6HZnV7SI/AAAAAAADKRU/x0Iv42Z5hkEvFPmEKM9_IAoAxICi8yazACLcBGAs/s1600/e6xxel3fpbmewadcegua.gif)"
      ]
    }
  ],
  "metadata": {
    "colab": {
      "collapsed_sections": [],
      "name": "Prevendo Preço das Passagens Aéreas.ipynb",
      "provenance": []
    },
    "kernelspec": {
      "display_name": "Python 3.8.8 ('base')",
      "language": "python",
      "name": "python3"
    },
    "language_info": {
      "codemirror_mode": {
        "name": "ipython",
        "version": 3
      },
      "file_extension": ".py",
      "mimetype": "text/x-python",
      "name": "python",
      "nbconvert_exporter": "python",
      "pygments_lexer": "ipython3",
      "version": "3.8.8"
    },
    "vscode": {
      "interpreter": {
        "hash": "ad2bdc8ecc057115af97d19610ffacc2b4e99fae6737bb82f5d7fb13d2f2c186"
      }
    }
  },
  "nbformat": 4,
  "nbformat_minor": 0
}
